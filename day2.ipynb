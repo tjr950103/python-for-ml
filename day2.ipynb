{
 "cells": [
  {
   "cell_type": "code",
   "execution_count": 1,
   "metadata": {},
   "outputs": [
    {
     "data": {
      "text/plain": [
       "4"
      ]
     },
     "execution_count": 1,
     "metadata": {},
     "output_type": "execute_result"
    }
   ],
   "source": [
    "1+3"
   ]
  },
  {
   "cell_type": "markdown",
   "metadata": {},
   "source": [
    "### List"
   ]
  },
  {
   "cell_type": "code",
   "execution_count": 2,
   "metadata": {
    "collapsed": true
   },
   "outputs": [],
   "source": [
    "numbers = [1,3,5,7,9]"
   ]
  },
  {
   "cell_type": "code",
   "execution_count": null,
   "metadata": {
    "collapsed": true
   },
   "outputs": [],
   "source": []
  },
  {
   "cell_type": "code",
   "execution_count": 3,
   "metadata": {},
   "outputs": [
    {
     "ename": "SyntaxError",
     "evalue": "invalid syntax (<ipython-input-3-c23ac0aba6ad>, line 1)",
     "output_type": "error",
     "traceback": [
      "\u001b[0;36m  File \u001b[0;32m\"<ipython-input-3-c23ac0aba6ad>\"\u001b[0;36m, line \u001b[0;32m1\u001b[0m\n\u001b[0;31m    values = [1, 2.0, \"hello, \"world\", \"[\"a\", \"b\", \"c\"]]\u001b[0m\n\u001b[0m                                   ^\u001b[0m\n\u001b[0;31mSyntaxError\u001b[0m\u001b[0;31m:\u001b[0m invalid syntax\n"
     ]
    }
   ],
   "source": [
    "values = [1, 2.0, \"hello\", \"world\", \"[\"a\", \"b\", \"c\"]]"
   ]
  },
  {
   "cell_type": "code",
   "execution_count": 4,
   "metadata": {},
   "outputs": [
    {
     "ename": "SyntaxError",
     "evalue": "invalid syntax (<ipython-input-4-9f5ab8ebd419>, line 1)",
     "output_type": "error",
     "traceback": [
      "\u001b[0;36m  File \u001b[0;32m\"<ipython-input-4-9f5ab8ebd419>\"\u001b[0;36m, line \u001b[0;32m1\u001b[0m\n\u001b[0;31m    values = [1, 2.0, \"hello\", \"world\", \"[\"a\", \"b\", \"c\"]]\u001b[0m\n\u001b[0m                                           ^\u001b[0m\n\u001b[0;31mSyntaxError\u001b[0m\u001b[0;31m:\u001b[0m invalid syntax\n"
     ]
    }
   ],
   "source": [
    "values = [1, 2.0, \"hello\", \"world\", \"[\"a\", \"b\", \"c\"]]"
   ]
  },
  {
   "cell_type": "code",
   "execution_count": 5,
   "metadata": {
    "collapsed": true
   },
   "outputs": [],
   "source": [
    "values = [1, 2.0, \"hello\", \"world\", [\"a\", \"b\", \"c\"]]"
   ]
  },
  {
   "cell_type": "code",
   "execution_count": 6,
   "metadata": {},
   "outputs": [
    {
     "ename": "NameError",
     "evalue": "name 'number' is not defined",
     "output_type": "error",
     "traceback": [
      "\u001b[0;31m---------------------------------------------------------------------------\u001b[0m",
      "\u001b[0;31mNameError\u001b[0m                                 Traceback (most recent call last)",
      "\u001b[0;32m<ipython-input-6-b9220cebf4f6>\u001b[0m in \u001b[0;36m<module>\u001b[0;34m()\u001b[0m\n\u001b[0;32m----> 1\u001b[0;31m \u001b[0mnumber\u001b[0m\u001b[0;34m[\u001b[0m\u001b[0;36m0\u001b[0m\u001b[0;34m]\u001b[0m\u001b[0;34m\u001b[0m\u001b[0m\n\u001b[0m",
      "\u001b[0;31mNameError\u001b[0m: name 'number' is not defined"
     ]
    }
   ],
   "source": [
    "number[0]"
   ]
  },
  {
   "cell_type": "code",
   "execution_count": 7,
   "metadata": {},
   "outputs": [
    {
     "data": {
      "text/plain": [
       "1"
      ]
     },
     "execution_count": 7,
     "metadata": {},
     "output_type": "execute_result"
    }
   ],
   "source": [
    "numbers[0]"
   ]
  },
  {
   "cell_type": "code",
   "execution_count": 8,
   "metadata": {},
   "outputs": [
    {
     "data": {
      "text/plain": [
       "5"
      ]
     },
     "execution_count": 8,
     "metadata": {},
     "output_type": "execute_result"
    }
   ],
   "source": [
    "len(numbers)"
   ]
  },
  {
   "cell_type": "code",
   "execution_count": 9,
   "metadata": {},
   "outputs": [
    {
     "ename": "NameError",
     "evalue": "name 'numbger' is not defined",
     "output_type": "error",
     "traceback": [
      "\u001b[0;31m---------------------------------------------------------------------------\u001b[0m",
      "\u001b[0;31mNameError\u001b[0m                                 Traceback (most recent call last)",
      "\u001b[0;32m<ipython-input-9-3ef95031a4b7>\u001b[0m in \u001b[0;36m<module>\u001b[0;34m()\u001b[0m\n\u001b[0;32m----> 1\u001b[0;31m \u001b[0mnumbger\u001b[0m\u001b[0;34m[\u001b[0m\u001b[0mlen\u001b[0m\u001b[0;34m(\u001b[0m\u001b[0mnumbers\u001b[0m\u001b[0;34m)\u001b[0m\u001b[0;34m-\u001b[0m\u001b[0;36m1\u001b[0m\u001b[0;34m]\u001b[0m\u001b[0;34m\u001b[0m\u001b[0m\n\u001b[0m",
      "\u001b[0;31mNameError\u001b[0m: name 'numbger' is not defined"
     ]
    }
   ],
   "source": [
    "numbger[len(numbers)-1]"
   ]
  },
  {
   "cell_type": "code",
   "execution_count": 10,
   "metadata": {},
   "outputs": [
    {
     "data": {
      "text/plain": [
       "9"
      ]
     },
     "execution_count": 10,
     "metadata": {},
     "output_type": "execute_result"
    }
   ],
   "source": [
    "numbers[len(numbers)-1]"
   ]
  },
  {
   "cell_type": "code",
   "execution_count": 11,
   "metadata": {},
   "outputs": [
    {
     "ename": "IndexError",
     "evalue": "list index out of range",
     "output_type": "error",
     "traceback": [
      "\u001b[0;31m---------------------------------------------------------------------------\u001b[0m",
      "\u001b[0;31mIndexError\u001b[0m                                Traceback (most recent call last)",
      "\u001b[0;32m<ipython-input-11-93305a1bc3f6>\u001b[0m in \u001b[0;36m<module>\u001b[0;34m()\u001b[0m\n\u001b[0;32m----> 1\u001b[0;31m \u001b[0mnumbers\u001b[0m\u001b[0;34m[\u001b[0m\u001b[0;36m10\u001b[0m\u001b[0;34m]\u001b[0m\u001b[0;34m\u001b[0m\u001b[0m\n\u001b[0m",
      "\u001b[0;31mIndexError\u001b[0m: list index out of range"
     ]
    }
   ],
   "source": [
    "numbers[10] # Index Error Exeption"
   ]
  },
  {
   "cell_type": "code",
   "execution_count": 12,
   "metadata": {
    "collapsed": true
   },
   "outputs": [],
   "source": [
    "#change Value\n",
    "numbers[0] = 100"
   ]
  },
  {
   "cell_type": "code",
   "execution_count": 13,
   "metadata": {},
   "outputs": [
    {
     "ename": "NameError",
     "evalue": "name 'nubers' is not defined",
     "output_type": "error",
     "traceback": [
      "\u001b[0;31m---------------------------------------------------------------------------\u001b[0m",
      "\u001b[0;31mNameError\u001b[0m                                 Traceback (most recent call last)",
      "\u001b[0;32m<ipython-input-13-134cb3fbda66>\u001b[0m in \u001b[0;36m<module>\u001b[0;34m()\u001b[0m\n\u001b[0;32m----> 1\u001b[0;31m \u001b[0mprint\u001b[0m\u001b[0;34m(\u001b[0m\u001b[0mnubers\u001b[0m\u001b[0;34m)\u001b[0m\u001b[0;34m\u001b[0m\u001b[0m\n\u001b[0m",
      "\u001b[0;31mNameError\u001b[0m: name 'nubers' is not defined"
     ]
    }
   ],
   "source": [
    "print(nubers)"
   ]
  },
  {
   "cell_type": "code",
   "execution_count": 14,
   "metadata": {},
   "outputs": [
    {
     "name": "stdout",
     "output_type": "stream",
     "text": [
      "[100, 3, 5, 7, 9]\n"
     ]
    }
   ],
   "source": [
    "print(numbers)"
   ]
  },
  {
   "cell_type": "code",
   "execution_count": 15,
   "metadata": {
    "collapsed": true
   },
   "outputs": [],
   "source": [
    "numbers.append(200)"
   ]
  },
  {
   "cell_type": "code",
   "execution_count": 16,
   "metadata": {},
   "outputs": [
    {
     "data": {
      "text/plain": [
       "[100, 3, 5, 7, 9, 200]"
      ]
     },
     "execution_count": 16,
     "metadata": {},
     "output_type": "execute_result"
    }
   ],
   "source": [
    "numbers"
   ]
  },
  {
   "cell_type": "code",
   "execution_count": 17,
   "metadata": {
    "collapsed": true
   },
   "outputs": [],
   "source": [
    "numbers.insert(1,300)"
   ]
  },
  {
   "cell_type": "code",
   "execution_count": 18,
   "metadata": {},
   "outputs": [
    {
     "data": {
      "text/plain": [
       "[100, 300, 3, 5, 7, 9, 200]"
      ]
     },
     "execution_count": 18,
     "metadata": {},
     "output_type": "execute_result"
    }
   ],
   "source": [
    "numbers"
   ]
  },
  {
   "cell_type": "code",
   "execution_count": 19,
   "metadata": {
    "collapsed": true
   },
   "outputs": [],
   "source": [
    "import random"
   ]
  },
  {
   "cell_type": "code",
   "execution_count": 20,
   "metadata": {},
   "outputs": [
    {
     "data": {
      "text/plain": [
       "32"
      ]
     },
     "execution_count": 20,
     "metadata": {},
     "output_type": "execute_result"
    }
   ],
   "source": [
    "random.randint(1,45)"
   ]
  },
  {
   "cell_type": "code",
   "execution_count": 21,
   "metadata": {},
   "outputs": [
    {
     "data": {
      "text/plain": [
       "28"
      ]
     },
     "execution_count": 21,
     "metadata": {},
     "output_type": "execute_result"
    }
   ],
   "source": [
    "random.randint(1,45)"
   ]
  },
  {
   "cell_type": "code",
   "execution_count": 22,
   "metadata": {},
   "outputs": [
    {
     "data": {
      "text/plain": [
       "1"
      ]
     },
     "execution_count": 22,
     "metadata": {},
     "output_type": "execute_result"
    }
   ],
   "source": [
    "random.randint(1,45)"
   ]
  },
  {
   "cell_type": "code",
   "execution_count": 23,
   "metadata": {},
   "outputs": [
    {
     "data": {
      "text/plain": [
       "7"
      ]
     },
     "execution_count": 23,
     "metadata": {},
     "output_type": "execute_result"
    }
   ],
   "source": [
    "random.randint(1,45)"
   ]
  },
  {
   "cell_type": "markdown",
   "metadata": {},
   "source": [
    "### QUIZ\n",
    "로또 번호 뽑기, 1 이상 45 이하 범위에서 랜덤한 6개의 값으로 구성된 리스트를 만들어보세요."
   ]
  },
  {
   "cell_type": "code",
   "execution_count": 24,
   "metadata": {},
   "outputs": [
    {
     "name": "stdout",
     "output_type": "stream",
     "text": [
      "[100, 300, 3, 5, 7, 9, 200]\n"
     ]
    }
   ],
   "source": [
    "numbers2=[0,0,0,0,0,0]\n",
    "for i in range(1, 6):\n",
    "    numbers2=random.randint(1,45)\n",
    "print(numbers)"
   ]
  },
  {
   "cell_type": "code",
   "execution_count": 25,
   "metadata": {},
   "outputs": [
    {
     "name": "stdout",
     "output_type": "stream",
     "text": [
      "[100, 300, 3, 5, 7, 9, 200]\n"
     ]
    }
   ],
   "source": [
    "numbers2=[]\n",
    "for i in range(6):\n",
    "    numbers2=random.randint(1,45)\n",
    "print(numbers)"
   ]
  },
  {
   "cell_type": "code",
   "execution_count": 27,
   "metadata": {},
   "outputs": [
    {
     "name": "stdout",
     "output_type": "stream",
     "text": [
      "[100, 300, 3, 5, 7, 9, 200]\n"
     ]
    }
   ],
   "source": [
    "numbers2=[]\n",
    "for i in range(6):\n",
    "    numbers2.append(random.randint(1,45))\n",
    "print(numbers)"
   ]
  },
  {
   "cell_type": "code",
   "execution_count": 29,
   "metadata": {},
   "outputs": [
    {
     "ename": "NameError",
     "evalue": "name 'number3' is not defined",
     "output_type": "error",
     "traceback": [
      "\u001b[0;31m---------------------------------------------------------------------------\u001b[0m",
      "\u001b[0;31mNameError\u001b[0m                                 Traceback (most recent call last)",
      "\u001b[0;32m<ipython-input-29-3caca6e7911d>\u001b[0m in \u001b[0;36m<module>\u001b[0;34m()\u001b[0m\n\u001b[1;32m      2\u001b[0m \u001b[0;32mfor\u001b[0m \u001b[0mi\u001b[0m \u001b[0;32min\u001b[0m \u001b[0mrange\u001b[0m\u001b[0;34m(\u001b[0m\u001b[0;36m6\u001b[0m\u001b[0;34m)\u001b[0m\u001b[0;34m:\u001b[0m\u001b[0;34m\u001b[0m\u001b[0m\n\u001b[1;32m      3\u001b[0m     \u001b[0mvalue\u001b[0m \u001b[0;34m=\u001b[0m \u001b[0mrandom\u001b[0m\u001b[0;34m.\u001b[0m\u001b[0mrandint\u001b[0m\u001b[0;34m(\u001b[0m\u001b[0;36m1\u001b[0m\u001b[0;34m,\u001b[0m \u001b[0;36m45\u001b[0m\u001b[0;34m)\u001b[0m\u001b[0;34m\u001b[0m\u001b[0m\n\u001b[0;32m----> 4\u001b[0;31m     \u001b[0;32mif\u001b[0m \u001b[0mvalue\u001b[0m \u001b[0;32mnot\u001b[0m \u001b[0;32min\u001b[0m \u001b[0mnumber3\u001b[0m\u001b[0;34m:\u001b[0m\u001b[0;34m\u001b[0m\u001b[0m\n\u001b[0m\u001b[1;32m      5\u001b[0m         \u001b[0mnumbers3\u001b[0m\u001b[0;34m.\u001b[0m\u001b[0mappend\u001b[0m\u001b[0;34m(\u001b[0m\u001b[0mvalue\u001b[0m\u001b[0;34m)\u001b[0m\u001b[0;34m\u001b[0m\u001b[0m\n\u001b[1;32m      6\u001b[0m \u001b[0mprint\u001b[0m\u001b[0;34m(\u001b[0m\u001b[0mnumbers3\u001b[0m\u001b[0;34m)\u001b[0m\u001b[0;34m\u001b[0m\u001b[0m\n",
      "\u001b[0;31mNameError\u001b[0m: name 'number3' is not defined"
     ]
    }
   ],
   "source": [
    "numbers3=[]\n",
    "for i in range(6):\n",
    "    value = random.randint(1, 45)\n",
    "    if value not in number3:\n",
    "        numbers3.append(value)\n",
    "print(numbers3)"
   ]
  },
  {
   "cell_type": "code",
   "execution_count": 31,
   "metadata": {},
   "outputs": [
    {
     "ename": "NameError",
     "evalue": "name 'number3' is not defined",
     "output_type": "error",
     "traceback": [
      "\u001b[0;31m---------------------------------------------------------------------------\u001b[0m",
      "\u001b[0;31mNameError\u001b[0m                                 Traceback (most recent call last)",
      "\u001b[0;32m<ipython-input-31-ade8662a403d>\u001b[0m in \u001b[0;36m<module>\u001b[0;34m()\u001b[0m\n\u001b[1;32m      2\u001b[0m \u001b[0;32mwhile\u001b[0m \u001b[0;32mTrue\u001b[0m\u001b[0;34m:\u001b[0m\u001b[0;34m\u001b[0m\u001b[0m\n\u001b[1;32m      3\u001b[0m     \u001b[0mvalue\u001b[0m \u001b[0;34m=\u001b[0m \u001b[0mrandom\u001b[0m\u001b[0;34m.\u001b[0m\u001b[0mrandint\u001b[0m\u001b[0;34m(\u001b[0m\u001b[0;36m1\u001b[0m\u001b[0;34m,\u001b[0m \u001b[0;36m45\u001b[0m\u001b[0;34m)\u001b[0m\u001b[0;34m\u001b[0m\u001b[0m\n\u001b[0;32m----> 4\u001b[0;31m     \u001b[0;32mif\u001b[0m \u001b[0mvalue\u001b[0m \u001b[0;32mnot\u001b[0m \u001b[0;32min\u001b[0m \u001b[0mnumber3\u001b[0m\u001b[0;34m:\u001b[0m\u001b[0;34m\u001b[0m\u001b[0m\n\u001b[0m\u001b[1;32m      5\u001b[0m         \u001b[0mnumbers3\u001b[0m\u001b[0;34m.\u001b[0m\u001b[0mappend\u001b[0m\u001b[0;34m(\u001b[0m\u001b[0mvalue\u001b[0m\u001b[0;34m)\u001b[0m\u001b[0;34m\u001b[0m\u001b[0m\n\u001b[1;32m      6\u001b[0m     \u001b[0;32mif\u001b[0m \u001b[0mlen\u001b[0m\u001b[0;34m(\u001b[0m\u001b[0mnumbers3\u001b[0m\u001b[0;34m)\u001b[0m\u001b[0;34m==\u001b[0m\u001b[0;36m6\u001b[0m\u001b[0;34m:\u001b[0m\u001b[0;34m\u001b[0m\u001b[0m\n",
      "\u001b[0;31mNameError\u001b[0m: name 'number3' is not defined"
     ]
    }
   ],
   "source": [
    "numbers3=[]\n",
    "while True:\n",
    "    value = random.randint(1, 45)\n",
    "    if value not in numbers3:\n",
    "        numbers3.append(value)\n",
    "    if len(numbers3)==6:\n",
    "        break\n",
    "numbers3"
   ]
  },
  {
   "cell_type": "code",
   "execution_count": 32,
   "metadata": {},
   "outputs": [
    {
     "data": {
      "text/plain": [
       "[44, 26, 40, 43, 41, 36]"
      ]
     },
     "execution_count": 32,
     "metadata": {},
     "output_type": "execute_result"
    }
   ],
   "source": [
    "numbers3=[]\n",
    "while True:\n",
    "    value = random.randint(1, 45)\n",
    "    if value not in numbers3:\n",
    "        numbers3.append(value)\n",
    "    if len(numbers3)==6:\n",
    "        break\n",
    "numbers3"
   ]
  },
  {
   "cell_type": "code",
   "execution_count": 33,
   "metadata": {
    "collapsed": true
   },
   "outputs": [],
   "source": [
    "numbers=[1, 3, 5, 7, 5]\n",
    "numbers[0]= 10\n",
    "numbers.append(9)"
   ]
  },
  {
   "cell_type": "code",
   "execution_count": 34,
   "metadata": {},
   "outputs": [
    {
     "data": {
      "text/plain": [
       "[10, 3, 5, 7, 5, 9]"
      ]
     },
     "execution_count": 34,
     "metadata": {},
     "output_type": "execute_result"
    }
   ],
   "source": [
    "numbers"
   ]
  },
  {
   "cell_type": "code",
   "execution_count": 35,
   "metadata": {},
   "outputs": [
    {
     "data": {
      "text/plain": [
       "7"
      ]
     },
     "execution_count": 35,
     "metadata": {},
     "output_type": "execute_result"
    }
   ],
   "source": [
    "numbers.pop(3)"
   ]
  },
  {
   "cell_type": "code",
   "execution_count": 36,
   "metadata": {},
   "outputs": [
    {
     "data": {
      "text/plain": [
       "[10, 3, 5, 5, 9]"
      ]
     },
     "execution_count": 36,
     "metadata": {},
     "output_type": "execute_result"
    }
   ],
   "source": [
    "numbers"
   ]
  },
  {
   "cell_type": "code",
   "execution_count": 37,
   "metadata": {},
   "outputs": [
    {
     "data": {
      "text/plain": [
       "[10, 3, 5, 9]"
      ]
     },
     "execution_count": 37,
     "metadata": {},
     "output_type": "execute_result"
    }
   ],
   "source": [
    "numbers.remove(5)\n",
    "numbers"
   ]
  },
  {
   "cell_type": "code",
   "execution_count": 38,
   "metadata": {},
   "outputs": [
    {
     "data": {
      "text/plain": [
       "[10, 3, 9]"
      ]
     },
     "execution_count": 38,
     "metadata": {},
     "output_type": "execute_result"
    }
   ],
   "source": [
    "numbers.remove(5)\n",
    "numbers"
   ]
  },
  {
   "cell_type": "code",
   "execution_count": 39,
   "metadata": {},
   "outputs": [
    {
     "ename": "ValueError",
     "evalue": "list.remove(x): x not in list",
     "output_type": "error",
     "traceback": [
      "\u001b[0;31m---------------------------------------------------------------------------\u001b[0m",
      "\u001b[0;31mValueError\u001b[0m                                Traceback (most recent call last)",
      "\u001b[0;32m<ipython-input-39-88461182bdc9>\u001b[0m in \u001b[0;36m<module>\u001b[0;34m()\u001b[0m\n\u001b[0;32m----> 1\u001b[0;31m \u001b[0mnumbers\u001b[0m\u001b[0;34m.\u001b[0m\u001b[0mremove\u001b[0m\u001b[0;34m(\u001b[0m\u001b[0;36m5\u001b[0m\u001b[0;34m)\u001b[0m\u001b[0;34m\u001b[0m\u001b[0m\n\u001b[0m\u001b[1;32m      2\u001b[0m \u001b[0mnumbers\u001b[0m\u001b[0;34m\u001b[0m\u001b[0m\n",
      "\u001b[0;31mValueError\u001b[0m: list.remove(x): x not in list"
     ]
    }
   ],
   "source": [
    "numbers.remove(5)\n",
    "numbers"
   ]
  },
  {
   "cell_type": "markdown",
   "metadata": {},
   "source": [
    "### Slice"
   ]
  },
  {
   "cell_type": "code",
   "execution_count": 40,
   "metadata": {},
   "outputs": [
    {
     "ename": "NameError",
     "evalue": "name 'message' is not defined",
     "output_type": "error",
     "traceback": [
      "\u001b[0;31m---------------------------------------------------------------------------\u001b[0m",
      "\u001b[0;31mNameError\u001b[0m                                 Traceback (most recent call last)",
      "\u001b[0;32m<ipython-input-40-e944f5c66b18>\u001b[0m in \u001b[0;36m<module>\u001b[0;34m()\u001b[0m\n\u001b[0;32m----> 1\u001b[0;31m \u001b[0mmessage\u001b[0m\u001b[0;34m[\u001b[0m\u001b[0;36m1\u001b[0m\u001b[0;34m]\u001b[0m\u001b[0;34m\u001b[0m\u001b[0m\n\u001b[0m",
      "\u001b[0;31mNameError\u001b[0m: name 'message' is not defined"
     ]
    }
   ],
   "source": [
    "message[1]"
   ]
  },
  {
   "cell_type": "code",
   "execution_count": 41,
   "metadata": {},
   "outputs": [
    {
     "ename": "NameError",
     "evalue": "name 'message' is not defined",
     "output_type": "error",
     "traceback": [
      "\u001b[0;31m---------------------------------------------------------------------------\u001b[0m",
      "\u001b[0;31mNameError\u001b[0m                                 Traceback (most recent call last)",
      "\u001b[0;32m<ipython-input-41-2dd43e43a286>\u001b[0m in \u001b[0;36m<module>\u001b[0;34m()\u001b[0m\n\u001b[0;32m----> 1\u001b[0;31m \u001b[0mmessage\u001b[0m\u001b[0;34m[\u001b[0m\u001b[0;36m1\u001b[0m\u001b[0;34m]\u001b[0m \u001b[0;34m=\u001b[0m \u001b[0;34m\"Hello world\"\u001b[0m\u001b[0;34m\u001b[0m\u001b[0m\n\u001b[0m",
      "\u001b[0;31mNameError\u001b[0m: name 'message' is not defined"
     ]
    }
   ],
   "source": [
    "message[1] = \"Hello world\""
   ]
  },
  {
   "cell_type": "code",
   "execution_count": 42,
   "metadata": {
    "collapsed": true
   },
   "outputs": [],
   "source": [
    "message = \"Hello world\""
   ]
  },
  {
   "cell_type": "code",
   "execution_count": 43,
   "metadata": {},
   "outputs": [
    {
     "data": {
      "text/plain": [
       "'H'"
      ]
     },
     "execution_count": 43,
     "metadata": {},
     "output_type": "execute_result"
    }
   ],
   "source": [
    "message[1]"
   ]
  },
  {
   "cell_type": "code",
   "execution_count": 44,
   "metadata": {},
   "outputs": [
    {
     "data": {
      "text/plain": [
       "'Hello worl'"
      ]
     },
     "execution_count": 44,
     "metadata": {},
     "output_type": "execute_result"
    }
   ],
   "source": [
    "message[1:-1]"
   ]
  },
  {
   "cell_type": "code",
   "execution_count": 45,
   "metadata": {},
   "outputs": [
    {
     "data": {
      "text/plain": [
       "'Hello world'"
      ]
     },
     "execution_count": 45,
     "metadata": {},
     "output_type": "execute_result"
    }
   ],
   "source": [
    "message[1:]"
   ]
  },
  {
   "cell_type": "code",
   "execution_count": 46,
   "metadata": {},
   "outputs": [
    {
     "ename": "NameError",
     "evalue": "name 'megssage' is not defined",
     "output_type": "error",
     "traceback": [
      "\u001b[0;31m---------------------------------------------------------------------------\u001b[0m",
      "\u001b[0;31mNameError\u001b[0m                                 Traceback (most recent call last)",
      "\u001b[0;32m<ipython-input-46-1cf55e51649b>\u001b[0m in \u001b[0;36m<module>\u001b[0;34m()\u001b[0m\n\u001b[0;32m----> 1\u001b[0;31m \u001b[0mmegssage\u001b[0m\u001b[0;34m[\u001b[0m\u001b[0;36m1\u001b[0m\u001b[0;34m]\u001b[0m\u001b[0;34m\u001b[0m\u001b[0m\n\u001b[0m",
      "\u001b[0;31mNameError\u001b[0m: name 'megssage' is not defined"
     ]
    }
   ],
   "source": [
    "megssage[1]"
   ]
  },
  {
   "cell_type": "code",
   "execution_count": 47,
   "metadata": {},
   "outputs": [
    {
     "data": {
      "text/plain": [
       "' Hello world'"
      ]
     },
     "execution_count": 47,
     "metadata": {},
     "output_type": "execute_result"
    }
   ],
   "source": [
    "message"
   ]
  },
  {
   "cell_type": "code",
   "execution_count": 48,
   "metadata": {
    "collapsed": true
   },
   "outputs": [],
   "source": [
    "message = \"Hello world\""
   ]
  },
  {
   "cell_type": "code",
   "execution_count": 49,
   "metadata": {},
   "outputs": [
    {
     "data": {
      "text/plain": [
       "'ello worl'"
      ]
     },
     "execution_count": 49,
     "metadata": {},
     "output_type": "execute_result"
    }
   ],
   "source": [
    "message[1:-1]"
   ]
  },
  {
   "cell_type": "code",
   "execution_count": 50,
   "metadata": {},
   "outputs": [
    {
     "data": {
      "text/plain": [
       "'el ol'"
      ]
     },
     "execution_count": 50,
     "metadata": {},
     "output_type": "execute_result"
    }
   ],
   "source": [
    "message[1:-1:2]"
   ]
  },
  {
   "cell_type": "code",
   "execution_count": 51,
   "metadata": {},
   "outputs": [
    {
     "data": {
      "text/plain": [
       "''"
      ]
     },
     "execution_count": 51,
     "metadata": {},
     "output_type": "execute_result"
    }
   ],
   "source": [
    "message[-1:1]"
   ]
  },
  {
   "cell_type": "code",
   "execution_count": 52,
   "metadata": {},
   "outputs": [
    {
     "data": {
      "text/plain": [
       "'dlrow olleH'"
      ]
     },
     "execution_count": 52,
     "metadata": {},
     "output_type": "execute_result"
    }
   ],
   "source": [
    "message[::-1]"
   ]
  },
  {
   "cell_type": "code",
   "execution_count": 53,
   "metadata": {},
   "outputs": [
    {
     "data": {
      "text/plain": [
       "'HelloWorld'"
      ]
     },
     "execution_count": 53,
     "metadata": {},
     "output_type": "execute_result"
    }
   ],
   "source": [
    "\"Hello\"+\"World\""
   ]
  },
  {
   "cell_type": "code",
   "execution_count": 55,
   "metadata": {},
   "outputs": [
    {
     "data": {
      "text/plain": [
       "[1, 2, 3, 3, 4, 5]"
      ]
     },
     "execution_count": 55,
     "metadata": {},
     "output_type": "execute_result"
    }
   ],
   "source": [
    "[1,2,3]+[3,4,5]"
   ]
  },
  {
   "cell_type": "markdown",
   "metadata": {},
   "source": [
    "### list comprehension"
   ]
  },
  {
   "cell_type": "code",
   "execution_count": 56,
   "metadata": {
    "collapsed": true
   },
   "outputs": [],
   "source": [
    "numbers1=[1, 3, 5, 7]\n",
    "numbers2=[2, 4, 6, 8]"
   ]
  },
  {
   "cell_type": "code",
   "execution_count": 57,
   "metadata": {
    "collapsed": true
   },
   "outputs": [],
   "source": [
    "result = []"
   ]
  },
  {
   "cell_type": "code",
   "execution_count": 58,
   "metadata": {},
   "outputs": [
    {
     "data": {
      "text/plain": [
       "[3, 7, 11, 15]"
      ]
     },
     "execution_count": 58,
     "metadata": {},
     "output_type": "execute_result"
    }
   ],
   "source": [
    "for i in range(len(numbers1)):\n",
    "    result.append(numbers1[i]+numbers2[i])\n",
    "result"
   ]
  },
  {
   "cell_type": "code",
   "execution_count": 59,
   "metadata": {},
   "outputs": [
    {
     "name": "stdout",
     "output_type": "stream",
     "text": [
      "1 2\n",
      "3 4\n",
      "5 6\n",
      "7 8\n"
     ]
    }
   ],
   "source": [
    "for (i, j) in zip(numbers1, numbers2):\n",
    "    print(i, j)"
   ]
  },
  {
   "cell_type": "code",
   "execution_count": 60,
   "metadata": {
    "collapsed": true
   },
   "outputs": [],
   "source": [
    "x=1\n",
    "y=2"
   ]
  },
  {
   "cell_type": "code",
   "execution_count": 61,
   "metadata": {
    "collapsed": true
   },
   "outputs": [],
   "source": [
    "x, y = y, x"
   ]
  },
  {
   "cell_type": "code",
   "execution_count": 62,
   "metadata": {},
   "outputs": [
    {
     "data": {
      "text/plain": [
       "1"
      ]
     },
     "execution_count": 62,
     "metadata": {},
     "output_type": "execute_result"
    }
   ],
   "source": [
    "x\n",
    "y"
   ]
  },
  {
   "cell_type": "code",
   "execution_count": 63,
   "metadata": {},
   "outputs": [
    {
     "data": {
      "text/plain": [
       "1"
      ]
     },
     "execution_count": 63,
     "metadata": {},
     "output_type": "execute_result"
    }
   ],
   "source": [
    "y"
   ]
  },
  {
   "cell_type": "code",
   "execution_count": 64,
   "metadata": {},
   "outputs": [
    {
     "data": {
      "text/plain": [
       "2"
      ]
     },
     "execution_count": 64,
     "metadata": {},
     "output_type": "execute_result"
    }
   ],
   "source": [
    "x"
   ]
  },
  {
   "cell_type": "code",
   "execution_count": 65,
   "metadata": {
    "collapsed": true
   },
   "outputs": [],
   "source": [
    "numbers = [1, 2, 3, 4]"
   ]
  },
  {
   "cell_type": "code",
   "execution_count": 68,
   "metadata": {
    "collapsed": true
   },
   "outputs": [],
   "source": [
    "v1 = numbers[0]\n",
    "v2 = numbers[1]\n",
    "v3 = numbers[2]\n",
    "v4 = numbers[3]"
   ]
  },
  {
   "cell_type": "code",
   "execution_count": 69,
   "metadata": {
    "collapsed": true
   },
   "outputs": [],
   "source": [
    "v1, v2, v3 ,v4 = numbers"
   ]
  },
  {
   "cell_type": "code",
   "execution_count": 70,
   "metadata": {},
   "outputs": [
    {
     "data": {
      "text/plain": [
       "[1, 2, 3, 4]"
      ]
     },
     "execution_count": 70,
     "metadata": {},
     "output_type": "execute_result"
    }
   ],
   "source": [
    "numbers"
   ]
  },
  {
   "cell_type": "code",
   "execution_count": 71,
   "metadata": {},
   "outputs": [
    {
     "data": {
      "text/plain": [
       "1"
      ]
     },
     "execution_count": 71,
     "metadata": {},
     "output_type": "execute_result"
    }
   ],
   "source": [
    "v1"
   ]
  },
  {
   "cell_type": "code",
   "execution_count": 72,
   "metadata": {},
   "outputs": [
    {
     "data": {
      "text/plain": [
       "3"
      ]
     },
     "execution_count": 72,
     "metadata": {},
     "output_type": "execute_result"
    }
   ],
   "source": [
    "v3"
   ]
  },
  {
   "cell_type": "code",
   "execution_count": 73,
   "metadata": {},
   "outputs": [
    {
     "name": "stdout",
     "output_type": "stream",
     "text": [
      "1 2 44\n",
      "3 4 26\n",
      "5 6 40\n",
      "7 8 43\n"
     ]
    }
   ],
   "source": [
    "for(i, j, k) in zip(numbers1, numbers2, numbers3):\n",
    "    print(i, j, k)"
   ]
  },
  {
   "cell_type": "code",
   "execution_count": 74,
   "metadata": {},
   "outputs": [
    {
     "data": {
      "text/plain": [
       "[47, 33, 51, 58]"
      ]
     },
     "execution_count": 74,
     "metadata": {},
     "output_type": "execute_result"
    }
   ],
   "source": [
    "result=[]\n",
    "for(i, j, k) in zip(numbers1, numbers2, numbers3):\n",
    "    result.append(i+j+k)\n",
    "result"
   ]
  },
  {
   "cell_type": "code",
   "execution_count": 75,
   "metadata": {},
   "outputs": [
    {
     "ename": "SyntaxError",
     "evalue": "invalid syntax (<ipython-input-75-ef80aca57bff>, line 2)",
     "output_type": "error",
     "traceback": [
      "\u001b[0;36m  File \u001b[0;32m\"<ipython-input-75-ef80aca57bff>\"\u001b[0;36m, line \u001b[0;32m2\u001b[0m\n\u001b[0;31m    for(i, j, k) in zip(numbers1, numbers2, number3)\u001b[0m\n\u001b[0m                                                    ^\u001b[0m\n\u001b[0;31mSyntaxError\u001b[0m\u001b[0;31m:\u001b[0m invalid syntax\n"
     ]
    }
   ],
   "source": [
    "(i+j+k)\n",
    "for(i, j, k) in zip(numbers1, numbers2, number3)"
   ]
  },
  {
   "cell_type": "code",
   "execution_count": 76,
   "metadata": {},
   "outputs": [
    {
     "ename": "SyntaxError",
     "evalue": "invalid syntax (<ipython-input-76-34318d86bd9c>, line 2)",
     "output_type": "error",
     "traceback": [
      "\u001b[0;36m  File \u001b[0;32m\"<ipython-input-76-34318d86bd9c>\"\u001b[0;36m, line \u001b[0;32m2\u001b[0m\n\u001b[0;31m    for(i, j, k) in zip(numbers1, numbers2, number3))\u001b[0m\n\u001b[0m                                                    ^\u001b[0m\n\u001b[0;31mSyntaxError\u001b[0m\u001b[0;31m:\u001b[0m invalid syntax\n"
     ]
    }
   ],
   "source": [
    "(i+j+k\n",
    "for(i, j, k) in zip(numbers1, numbers2, number3))"
   ]
  },
  {
   "cell_type": "code",
   "execution_count": 77,
   "metadata": {},
   "outputs": [
    {
     "ename": "NameError",
     "evalue": "name 'number3' is not defined",
     "output_type": "error",
     "traceback": [
      "\u001b[0;31m---------------------------------------------------------------------------\u001b[0m",
      "\u001b[0;31mNameError\u001b[0m                                 Traceback (most recent call last)",
      "\u001b[0;32m<ipython-input-77-8e082162f20c>\u001b[0m in \u001b[0;36m<module>\u001b[0;34m()\u001b[0m\n\u001b[1;32m      1\u001b[0m (i+j+k\n\u001b[0;32m----> 2\u001b[0;31m for(i, j, k) in zip(numbers1, numbers2, number3))\n\u001b[0m",
      "\u001b[0;31mNameError\u001b[0m: name 'number3' is not defined"
     ]
    }
   ],
   "source": [
    "(i+j+k\n",
    "for(i, j, k) in zip(numbers1, numbers2))"
   ]
  },
  {
   "cell_type": "code",
   "execution_count": 78,
   "metadata": {},
   "outputs": [
    {
     "data": {
      "text/plain": [
       "<generator object <genexpr> at 0x7f731c515bf8>"
      ]
     },
     "execution_count": 78,
     "metadata": {},
     "output_type": "execute_result"
    }
   ],
   "source": [
    "(i+j+k\n",
    "for(i, j, k) in zip(numbers1, numbers2))"
   ]
  },
  {
   "cell_type": "markdown",
   "metadata": {},
   "source": [
    "### tuple"
   ]
  },
  {
   "cell_type": "code",
   "execution_count": 79,
   "metadata": {},
   "outputs": [
    {
     "data": {
      "text/plain": [
       "(1, 2, 3, 4, 5, 6, 7, 8, 9, 10)"
      ]
     },
     "execution_count": 79,
     "metadata": {},
     "output_type": "execute_result"
    }
   ],
   "source": [
    "(1,2,3,4,5,6,7,8,9,10)"
   ]
  },
  {
   "cell_type": "code",
   "execution_count": 80,
   "metadata": {},
   "outputs": [
    {
     "data": {
      "text/plain": [
       "(1,)"
      ]
     },
     "execution_count": 80,
     "metadata": {},
     "output_type": "execute_result"
    }
   ],
   "source": [
    "(1,) # 튜플"
   ]
  },
  {
   "cell_type": "code",
   "execution_count": 81,
   "metadata": {},
   "outputs": [
    {
     "data": {
      "text/plain": [
       "1"
      ]
     },
     "execution_count": 81,
     "metadata": {},
     "output_type": "execute_result"
    }
   ],
   "source": [
    "(1)"
   ]
  },
  {
   "cell_type": "code",
   "execution_count": 83,
   "metadata": {},
   "outputs": [
    {
     "name": "stdout",
     "output_type": "stream",
     "text": [
      "1\n",
      "2\n",
      "3\n",
      "4\n",
      "5\n",
      "6\n",
      "7\n",
      "8\n",
      "9\n",
      "10\n"
     ]
    }
   ],
   "source": [
    "for i in (1,2,3,4,5,6,7,8,9,10):\n",
    "    print(i)"
   ]
  },
  {
   "cell_type": "code",
   "execution_count": 84,
   "metadata": {},
   "outputs": [
    {
     "name": "stdout",
     "output_type": "stream",
     "text": [
      "1\n",
      "2\n"
     ]
    }
   ],
   "source": [
    "for i in (1,2):\n",
    "    print(i)"
   ]
  },
  {
   "cell_type": "code",
   "execution_count": 85,
   "metadata": {},
   "outputs": [
    {
     "ename": "TypeError",
     "evalue": "'int' object is not iterable",
     "output_type": "error",
     "traceback": [
      "\u001b[0;31m---------------------------------------------------------------------------\u001b[0m",
      "\u001b[0;31mTypeError\u001b[0m                                 Traceback (most recent call last)",
      "\u001b[0;32m<ipython-input-85-6edb58712764>\u001b[0m in \u001b[0;36m<module>\u001b[0;34m()\u001b[0m\n\u001b[0;32m----> 1\u001b[0;31m \u001b[0;32mfor\u001b[0m \u001b[0mi\u001b[0m \u001b[0;32min\u001b[0m \u001b[0;34m(\u001b[0m\u001b[0;36m1\u001b[0m\u001b[0;34m)\u001b[0m\u001b[0;34m:\u001b[0m\u001b[0;34m\u001b[0m\u001b[0m\n\u001b[0m\u001b[1;32m      2\u001b[0m     \u001b[0mprint\u001b[0m\u001b[0;34m(\u001b[0m\u001b[0mi\u001b[0m\u001b[0;34m)\u001b[0m\u001b[0;34m\u001b[0m\u001b[0m\n",
      "\u001b[0;31mTypeError\u001b[0m: 'int' object is not iterable"
     ]
    }
   ],
   "source": [
    "for i in (1): ## 오류가 난다. 이럴땐 ,를 찍어서 해결하자\n",
    "    print(i)"
   ]
  },
  {
   "cell_type": "code",
   "execution_count": 86,
   "metadata": {},
   "outputs": [
    {
     "name": "stdout",
     "output_type": "stream",
     "text": [
      "1\n"
     ]
    }
   ],
   "source": [
    "for i in (1,): \n",
    "    print(i)"
   ]
  },
  {
   "cell_type": "code",
   "execution_count": 87,
   "metadata": {
    "collapsed": true
   },
   "outputs": [],
   "source": [
    "numbers = [1,2,3,4,5,6,7,8,9,10]\n",
    "v1, v2, v3, v4 = numbers[-4:]"
   ]
  },
  {
   "cell_type": "markdown",
   "metadata": {},
   "source": [
    "### 고수"
   ]
  },
  {
   "cell_type": "code",
   "execution_count": null,
   "metadata": {
    "collapsed": true
   },
   "outputs": [],
   "source": [
    "import os\n",
    "import requests\n",
    "from bs4 import BeautifulSoup\n",
    "\n",
    "comic_url = 'https://comic.naver.com/webtoon/detail.nhn?titleld=662774&no=142&'"
   ]
  },
  {
   "cell_type": "code",
   "execution_count": null,
   "metadata": {
    "collapsed": true
   },
   "outputs": [],
   "source": [
    "res = requests.get(comic_url)\n",
    "html = res.text\n",
    "soup= BeautifulSoup(html.'html.parser')\n",
    "\n",
    "image_url_list = []\n",
    "\n",
    "for tag in soup.select('#comic_view_area img'):\n",
    "    try:\n",
    "        image_url_list.append(tag['src'])\n",
    "        except KeyError:\n",
    "            pass\n",
    "image_url_list"
   ]
  },
  {
   "cell_type": "code",
   "execution_count": null,
   "metadata": {
    "collapsed": true
   },
   "outputs": [],
   "source": [
    "for image_url in image_url_list:\n",
    "    res = requests.get(image_url. headers=['Referer':comic_url])\n",
    "    image_data = res.content\n",
    "    image_name = os.path.basename(image_url)\n",
    "    \n",
    "    print(image_url)\n",
    "    with open(image_name, 'wb') as f:\n",
    "        f.write(image_data)"
   ]
  },
  {
   "cell_type": "code",
   "execution_count": 1,
   "metadata": {},
   "outputs": [
    {
     "ename": "SyntaxError",
     "evalue": "invalid syntax (<ipython-input-1-e7933c6df13f>, line 6)",
     "output_type": "error",
     "traceback": [
      "\u001b[0;36m  File \u001b[0;32m\"<ipython-input-1-e7933c6df13f>\"\u001b[0;36m, line \u001b[0;32m6\u001b[0m\n\u001b[0;31m    In [ ]:\u001b[0m\n\u001b[0m         ^\u001b[0m\n\u001b[0;31mSyntaxError\u001b[0m\u001b[0;31m:\u001b[0m invalid syntax\n"
     ]
    }
   ],
   "source": [
    "import os\n",
    "import requests\n",
    "from bs4 import BeautifulSoup\n",
    "\n",
    "comic_url = 'https://comic.naver.com/webtoon/detail.nhn?titleId=662774&no=142&weekday=wed'\n",
    "In [ ]:\n",
    "res = requests.get(comic_url)\n",
    "html = res.text\n",
    "soup = BeautifulSoup(html, 'html.parser')\n",
    "\n",
    "image_url_list = []\n",
    "\n",
    "for tag in soup.select('#comic_view_area img'):\n",
    "    try:\n",
    "        image_url_list.append(tag['src'])\n",
    "    except KeyError:\n",
    "        pass\n",
    "        \n",
    "image_url_list\n",
    "In [ ]:\n",
    "for image_url in image_url_list:\n",
    "    res = requests.get(image_url, headers={'Referer': comic_url})\n",
    "    image_data = res.content\n",
    "    image_name = os.path.basename(image_url)\n",
    "    \n",
    "    print(image_url)\n",
    "    with open(image_name, 'wb') as f:\n",
    "        f.write(image_data)"
   ]
  },
  {
   "cell_type": "code",
   "execution_count": 2,
   "metadata": {
    "collapsed": true
   },
   "outputs": [],
   "source": [
    "import os\n",
    "import requests\n",
    "from bs4 import BeautifulSoup\n",
    "\n",
    "comic_url = 'https://comic.naver.com/webtoon/detail.nhn?titleId=662774&no=142&weekday=wed'"
   ]
  },
  {
   "cell_type": "code",
   "execution_count": 3,
   "metadata": {},
   "outputs": [
    {
     "data": {
      "text/plain": [
       "['https://image-comic.pstatic.net/webtoon/662774/142/20180707225814_4b71bd0a142a9bb0cbc9c1bf5f2742a8_IMAG01_1.jpg',\n",
       " 'https://image-comic.pstatic.net/webtoon/662774/142/20180707225814_4b71bd0a142a9bb0cbc9c1bf5f2742a8_IMAG01_2.jpg',\n",
       " 'https://image-comic.pstatic.net/webtoon/662774/142/20180707225814_4b71bd0a142a9bb0cbc9c1bf5f2742a8_IMAG01_3.jpg',\n",
       " 'https://image-comic.pstatic.net/webtoon/662774/142/20180707225814_4b71bd0a142a9bb0cbc9c1bf5f2742a8_IMAG01_4.jpg',\n",
       " 'https://image-comic.pstatic.net/webtoon/662774/142/20180707225814_4b71bd0a142a9bb0cbc9c1bf5f2742a8_IMAG01_5.jpg',\n",
       " 'https://image-comic.pstatic.net/webtoon/662774/142/20180707225814_4b71bd0a142a9bb0cbc9c1bf5f2742a8_IMAG01_6.jpg',\n",
       " 'https://image-comic.pstatic.net/webtoon/662774/142/20180707225814_4b71bd0a142a9bb0cbc9c1bf5f2742a8_IMAG01_7.jpg',\n",
       " 'https://image-comic.pstatic.net/webtoon/662774/142/20180707225814_4b71bd0a142a9bb0cbc9c1bf5f2742a8_IMAG01_8.jpg',\n",
       " 'https://image-comic.pstatic.net/webtoon/662774/142/20180707225814_4b71bd0a142a9bb0cbc9c1bf5f2742a8_IMAG01_9.jpg',\n",
       " 'https://image-comic.pstatic.net/webtoon/662774/142/20180707225814_4b71bd0a142a9bb0cbc9c1bf5f2742a8_IMAG01_10.jpg',\n",
       " 'https://image-comic.pstatic.net/webtoon/662774/142/20180707225814_4b71bd0a142a9bb0cbc9c1bf5f2742a8_IMAG01_11.jpg',\n",
       " 'https://image-comic.pstatic.net/webtoon/662774/142/20180707225814_4b71bd0a142a9bb0cbc9c1bf5f2742a8_IMAG01_12.jpg',\n",
       " 'https://image-comic.pstatic.net/webtoon/662774/142/20180707225814_4b71bd0a142a9bb0cbc9c1bf5f2742a8_IMAG01_13.jpg',\n",
       " 'https://image-comic.pstatic.net/webtoon/662774/142/20180707225814_4b71bd0a142a9bb0cbc9c1bf5f2742a8_IMAG01_14.jpg',\n",
       " 'https://image-comic.pstatic.net/webtoon/662774/142/20180707225814_4b71bd0a142a9bb0cbc9c1bf5f2742a8_IMAG01_15.jpg',\n",
       " 'https://image-comic.pstatic.net/webtoon/662774/142/20180707225814_4b71bd0a142a9bb0cbc9c1bf5f2742a8_IMAG01_16.jpg',\n",
       " 'https://image-comic.pstatic.net/webtoon/662774/142/20180707225814_4b71bd0a142a9bb0cbc9c1bf5f2742a8_IMAG01_17.jpg',\n",
       " 'https://image-comic.pstatic.net/webtoon/662774/142/20180707225814_4b71bd0a142a9bb0cbc9c1bf5f2742a8_IMAG01_18.jpg',\n",
       " 'https://image-comic.pstatic.net/webtoon/662774/142/20180707225814_4b71bd0a142a9bb0cbc9c1bf5f2742a8_IMAG01_19.jpg',\n",
       " 'https://image-comic.pstatic.net/webtoon/662774/142/20180707225814_4b71bd0a142a9bb0cbc9c1bf5f2742a8_IMAG01_20.jpg',\n",
       " 'https://image-comic.pstatic.net/webtoon/662774/142/20180707225814_4b71bd0a142a9bb0cbc9c1bf5f2742a8_IMAG01_21.jpg',\n",
       " 'https://image-comic.pstatic.net/webtoon/662774/142/20180707225814_4b71bd0a142a9bb0cbc9c1bf5f2742a8_IMAG01_22.jpg',\n",
       " 'https://image-comic.pstatic.net/webtoon/662774/142/20180707225814_4b71bd0a142a9bb0cbc9c1bf5f2742a8_IMAG01_23.jpg',\n",
       " 'https://image-comic.pstatic.net/webtoon/662774/142/20180707225814_4b71bd0a142a9bb0cbc9c1bf5f2742a8_IMAG01_24.jpg',\n",
       " 'https://image-comic.pstatic.net/webtoon/662774/142/20180707225814_4b71bd0a142a9bb0cbc9c1bf5f2742a8_IMAG01_25.jpg',\n",
       " 'https://image-comic.pstatic.net/webtoon/662774/142/20180707225814_4b71bd0a142a9bb0cbc9c1bf5f2742a8_IMAG01_26.jpg',\n",
       " 'https://image-comic.pstatic.net/webtoon/662774/142/20180707225814_4b71bd0a142a9bb0cbc9c1bf5f2742a8_IMAG01_27.jpg',\n",
       " 'https://image-comic.pstatic.net/webtoon/662774/142/20180707225814_4b71bd0a142a9bb0cbc9c1bf5f2742a8_IMAG01_28.jpg',\n",
       " 'https://image-comic.pstatic.net/webtoon/662774/142/20180707225814_4b71bd0a142a9bb0cbc9c1bf5f2742a8_IMAG01_29.jpg',\n",
       " 'https://image-comic.pstatic.net/webtoon/662774/142/20180707225814_4b71bd0a142a9bb0cbc9c1bf5f2742a8_IMAG01_30.jpg',\n",
       " 'https://image-comic.pstatic.net/webtoon/662774/142/20180707225814_4b71bd0a142a9bb0cbc9c1bf5f2742a8_IMAG01_31.jpg',\n",
       " 'https://image-comic.pstatic.net/webtoon/662774/142/20180707225814_4b71bd0a142a9bb0cbc9c1bf5f2742a8_IMAG01_32.jpg',\n",
       " 'https://image-comic.pstatic.net/webtoon/662774/142/20180707225814_4b71bd0a142a9bb0cbc9c1bf5f2742a8_IMAG01_33.jpg',\n",
       " 'https://image-comic.pstatic.net/webtoon/662774/142/20180707225814_4b71bd0a142a9bb0cbc9c1bf5f2742a8_IMAG01_34.jpg',\n",
       " 'https://image-comic.pstatic.net/webtoon/662774/142/20180707225814_4b71bd0a142a9bb0cbc9c1bf5f2742a8_IMAG01_35.jpg',\n",
       " 'https://image-comic.pstatic.net/webtoon/662774/142/20180707225814_4b71bd0a142a9bb0cbc9c1bf5f2742a8_IMAG01_36.jpg',\n",
       " 'https://image-comic.pstatic.net/webtoon/662774/142/20180707225814_4b71bd0a142a9bb0cbc9c1bf5f2742a8_IMAG01_37.jpg',\n",
       " 'https://image-comic.pstatic.net/webtoon/662774/142/20180707225814_4b71bd0a142a9bb0cbc9c1bf5f2742a8_IMAG01_38.jpg',\n",
       " 'https://image-comic.pstatic.net/webtoon/662774/142/20180707225814_4b71bd0a142a9bb0cbc9c1bf5f2742a8_IMAG01_39.jpg',\n",
       " 'https://image-comic.pstatic.net/webtoon/662774/142/20180707225814_4b71bd0a142a9bb0cbc9c1bf5f2742a8_IMAG01_40.jpg',\n",
       " 'https://image-comic.pstatic.net/webtoon/662774/142/20180707225814_4b71bd0a142a9bb0cbc9c1bf5f2742a8_IMAG01_41.jpg',\n",
       " 'https://image-comic.pstatic.net/webtoon/662774/142/20180707225814_4b71bd0a142a9bb0cbc9c1bf5f2742a8_IMAG01_42.jpg',\n",
       " 'https://image-comic.pstatic.net/webtoon/662774/142/20180707225814_4b71bd0a142a9bb0cbc9c1bf5f2742a8_IMAG01_43.jpg',\n",
       " 'https://image-comic.pstatic.net/webtoon/662774/142/20180707225814_4b71bd0a142a9bb0cbc9c1bf5f2742a8_IMAG01_44.jpg',\n",
       " 'https://image-comic.pstatic.net/webtoon/662774/142/20180707225814_4b71bd0a142a9bb0cbc9c1bf5f2742a8_IMAG01_45.jpg',\n",
       " 'https://image-comic.pstatic.net/webtoon/662774/142/20180707225814_4b71bd0a142a9bb0cbc9c1bf5f2742a8_IMAG01_46.jpg',\n",
       " 'https://image-comic.pstatic.net/webtoon/662774/142/20180707225814_4b71bd0a142a9bb0cbc9c1bf5f2742a8_IMAG01_47.jpg',\n",
       " 'https://image-comic.pstatic.net/webtoon/662774/142/20180707225814_4b71bd0a142a9bb0cbc9c1bf5f2742a8_IMAG01_48.jpg',\n",
       " 'https://image-comic.pstatic.net/webtoon/662774/142/20180707225814_4b71bd0a142a9bb0cbc9c1bf5f2742a8_IMAG01_49.jpg',\n",
       " 'https://image-comic.pstatic.net/webtoon/662774/142/20180707225814_4b71bd0a142a9bb0cbc9c1bf5f2742a8_IMAG01_50.jpg',\n",
       " 'https://image-comic.pstatic.net/webtoon/662774/142/20180707225814_4b71bd0a142a9bb0cbc9c1bf5f2742a8_IMAG01_51.jpg',\n",
       " 'https://image-comic.pstatic.net/webtoon/662774/142/20180707225814_4b71bd0a142a9bb0cbc9c1bf5f2742a8_IMAG01_52.jpg',\n",
       " 'https://image-comic.pstatic.net/webtoon/662774/142/20180707225814_4b71bd0a142a9bb0cbc9c1bf5f2742a8_IMAG01_53.jpg',\n",
       " 'https://image-comic.pstatic.net/webtoon/662774/142/20180707225814_4b71bd0a142a9bb0cbc9c1bf5f2742a8_IMAG01_54.jpg',\n",
       " 'https://image-comic.pstatic.net/webtoon/662774/142/20180707225814_4b71bd0a142a9bb0cbc9c1bf5f2742a8_IMAG01_55.jpg',\n",
       " 'https://image-comic.pstatic.net/webtoon/662774/142/20180707225814_4b71bd0a142a9bb0cbc9c1bf5f2742a8_IMAG01_56.jpg',\n",
       " 'https://image-comic.pstatic.net/webtoon/662774/142/20180707225814_4b71bd0a142a9bb0cbc9c1bf5f2742a8_IMAG01_57.jpg',\n",
       " 'https://image-comic.pstatic.net/webtoon/662774/142/20180707225814_4b71bd0a142a9bb0cbc9c1bf5f2742a8_IMAG01_58.jpg',\n",
       " 'https://image-comic.pstatic.net/webtoon/662774/142/20180707225814_4b71bd0a142a9bb0cbc9c1bf5f2742a8_IMAG01_59.jpg',\n",
       " 'https://image-comic.pstatic.net/webtoon/662774/142/20180707225814_4b71bd0a142a9bb0cbc9c1bf5f2742a8_IMAG01_60.jpg',\n",
       " 'https://image-comic.pstatic.net/webtoon/662774/142/20180707225814_4b71bd0a142a9bb0cbc9c1bf5f2742a8_IMAG01_61.jpg',\n",
       " 'https://image-comic.pstatic.net/webtoon/662774/142/20180707225814_4b71bd0a142a9bb0cbc9c1bf5f2742a8_IMAG01_62.jpg',\n",
       " 'https://image-comic.pstatic.net/webtoon/662774/142/20180707225814_4b71bd0a142a9bb0cbc9c1bf5f2742a8_IMAG01_63.jpg',\n",
       " 'https://image-comic.pstatic.net/webtoon/662774/142/20180707225814_4b71bd0a142a9bb0cbc9c1bf5f2742a8_IMAG01_64.jpg',\n",
       " 'https://image-comic.pstatic.net/webtoon/662774/142/20180707225814_4b71bd0a142a9bb0cbc9c1bf5f2742a8_IMAG01_65.jpg',\n",
       " 'https://image-comic.pstatic.net/webtoon/662774/142/20180707225814_4b71bd0a142a9bb0cbc9c1bf5f2742a8_IMAG01_66.jpg',\n",
       " 'https://image-comic.pstatic.net/webtoon/662774/142/20180707225814_4b71bd0a142a9bb0cbc9c1bf5f2742a8_IMAG01_67.jpg',\n",
       " 'https://image-comic.pstatic.net/webtoon/662774/142/20180707225814_4b71bd0a142a9bb0cbc9c1bf5f2742a8_IMAG01_68.jpg',\n",
       " 'https://image-comic.pstatic.net/webtoon/662774/142/20180707225814_4b71bd0a142a9bb0cbc9c1bf5f2742a8_IMAG01_69.jpg',\n",
       " 'https://image-comic.pstatic.net/webtoon/662774/142/20180707225814_4b71bd0a142a9bb0cbc9c1bf5f2742a8_IMAG01_70.jpg',\n",
       " 'https://image-comic.pstatic.net/webtoon/662774/142/20180707225814_4b71bd0a142a9bb0cbc9c1bf5f2742a8_IMAG01_71.jpg',\n",
       " 'https://image-comic.pstatic.net/webtoon/662774/142/20180707225814_4b71bd0a142a9bb0cbc9c1bf5f2742a8_IMAG01_72.jpg',\n",
       " 'https://image-comic.pstatic.net/webtoon/662774/142/20180707225814_4b71bd0a142a9bb0cbc9c1bf5f2742a8_IMAG01_73.jpg',\n",
       " 'https://image-comic.pstatic.net/webtoon/662774/142/20180707225814_4b71bd0a142a9bb0cbc9c1bf5f2742a8_IMAG01_74.jpg',\n",
       " 'https://image-comic.pstatic.net/webtoon/662774/142/20180707225814_4b71bd0a142a9bb0cbc9c1bf5f2742a8_IMAG01_75.jpg',\n",
       " 'https://image-comic.pstatic.net/webtoon/662774/142/20180707225814_4b71bd0a142a9bb0cbc9c1bf5f2742a8_IMAG01_76.jpg',\n",
       " '',\n",
       " 'https://ssl.pstatic.net/static/comic/images/txt_ads.png',\n",
       " 'https://ssl.pstatic.net/static/comic/images/txt_ads.png']"
      ]
     },
     "execution_count": 3,
     "metadata": {},
     "output_type": "execute_result"
    }
   ],
   "source": [
    "res = requests.get(comic_url) #해당 URP에 응답을 요청\n",
    "html = res.text              #획득한 HTML문자열을 통해, 피서 객체 형성\n",
    "soup = BeautifulSoup(html, 'html.parser') \n",
    "\n",
    "image_url_list = []\n",
    "\n",
    "for tag in soup.select('#comic_view_area img'): #id가 comic_view_area인 태그 아래에 있는 모든 img 태그 리스트\n",
    "    try:\n",
    "        #모든 img 태그에 이미지 주소인 src 속성이 있는 것은 아니기에 이미지 주소 src속성이 없다면 KeyErro 예외가 발생\n",
    "        image_url_list.append(tag['src'])\n",
    "        # 이미지 주소를 가져왔는데 주소가 빈 경우도 있다.\n",
    "    except KeyError:\n",
    "        pass\n",
    "        \n",
    "image_url_list"
   ]
  },
  {
   "cell_type": "code",
   "execution_count": 4,
   "metadata": {},
   "outputs": [
    {
     "name": "stdout",
     "output_type": "stream",
     "text": [
      "https://image-comic.pstatic.net/webtoon/662774/142/20180707225814_4b71bd0a142a9bb0cbc9c1bf5f2742a8_IMAG01_1.jpg\n",
      "https://image-comic.pstatic.net/webtoon/662774/142/20180707225814_4b71bd0a142a9bb0cbc9c1bf5f2742a8_IMAG01_2.jpg\n",
      "https://image-comic.pstatic.net/webtoon/662774/142/20180707225814_4b71bd0a142a9bb0cbc9c1bf5f2742a8_IMAG01_3.jpg\n",
      "https://image-comic.pstatic.net/webtoon/662774/142/20180707225814_4b71bd0a142a9bb0cbc9c1bf5f2742a8_IMAG01_4.jpg\n",
      "https://image-comic.pstatic.net/webtoon/662774/142/20180707225814_4b71bd0a142a9bb0cbc9c1bf5f2742a8_IMAG01_5.jpg\n",
      "https://image-comic.pstatic.net/webtoon/662774/142/20180707225814_4b71bd0a142a9bb0cbc9c1bf5f2742a8_IMAG01_6.jpg\n",
      "https://image-comic.pstatic.net/webtoon/662774/142/20180707225814_4b71bd0a142a9bb0cbc9c1bf5f2742a8_IMAG01_7.jpg\n",
      "https://image-comic.pstatic.net/webtoon/662774/142/20180707225814_4b71bd0a142a9bb0cbc9c1bf5f2742a8_IMAG01_8.jpg\n",
      "https://image-comic.pstatic.net/webtoon/662774/142/20180707225814_4b71bd0a142a9bb0cbc9c1bf5f2742a8_IMAG01_9.jpg\n",
      "https://image-comic.pstatic.net/webtoon/662774/142/20180707225814_4b71bd0a142a9bb0cbc9c1bf5f2742a8_IMAG01_10.jpg\n",
      "https://image-comic.pstatic.net/webtoon/662774/142/20180707225814_4b71bd0a142a9bb0cbc9c1bf5f2742a8_IMAG01_11.jpg\n",
      "https://image-comic.pstatic.net/webtoon/662774/142/20180707225814_4b71bd0a142a9bb0cbc9c1bf5f2742a8_IMAG01_12.jpg\n",
      "https://image-comic.pstatic.net/webtoon/662774/142/20180707225814_4b71bd0a142a9bb0cbc9c1bf5f2742a8_IMAG01_13.jpg\n",
      "https://image-comic.pstatic.net/webtoon/662774/142/20180707225814_4b71bd0a142a9bb0cbc9c1bf5f2742a8_IMAG01_14.jpg\n",
      "https://image-comic.pstatic.net/webtoon/662774/142/20180707225814_4b71bd0a142a9bb0cbc9c1bf5f2742a8_IMAG01_15.jpg\n",
      "https://image-comic.pstatic.net/webtoon/662774/142/20180707225814_4b71bd0a142a9bb0cbc9c1bf5f2742a8_IMAG01_16.jpg\n",
      "https://image-comic.pstatic.net/webtoon/662774/142/20180707225814_4b71bd0a142a9bb0cbc9c1bf5f2742a8_IMAG01_17.jpg\n",
      "https://image-comic.pstatic.net/webtoon/662774/142/20180707225814_4b71bd0a142a9bb0cbc9c1bf5f2742a8_IMAG01_18.jpg\n",
      "https://image-comic.pstatic.net/webtoon/662774/142/20180707225814_4b71bd0a142a9bb0cbc9c1bf5f2742a8_IMAG01_19.jpg\n",
      "https://image-comic.pstatic.net/webtoon/662774/142/20180707225814_4b71bd0a142a9bb0cbc9c1bf5f2742a8_IMAG01_20.jpg\n",
      "https://image-comic.pstatic.net/webtoon/662774/142/20180707225814_4b71bd0a142a9bb0cbc9c1bf5f2742a8_IMAG01_21.jpg\n",
      "https://image-comic.pstatic.net/webtoon/662774/142/20180707225814_4b71bd0a142a9bb0cbc9c1bf5f2742a8_IMAG01_22.jpg\n",
      "https://image-comic.pstatic.net/webtoon/662774/142/20180707225814_4b71bd0a142a9bb0cbc9c1bf5f2742a8_IMAG01_23.jpg\n",
      "https://image-comic.pstatic.net/webtoon/662774/142/20180707225814_4b71bd0a142a9bb0cbc9c1bf5f2742a8_IMAG01_24.jpg\n",
      "https://image-comic.pstatic.net/webtoon/662774/142/20180707225814_4b71bd0a142a9bb0cbc9c1bf5f2742a8_IMAG01_25.jpg\n",
      "https://image-comic.pstatic.net/webtoon/662774/142/20180707225814_4b71bd0a142a9bb0cbc9c1bf5f2742a8_IMAG01_26.jpg\n",
      "https://image-comic.pstatic.net/webtoon/662774/142/20180707225814_4b71bd0a142a9bb0cbc9c1bf5f2742a8_IMAG01_27.jpg\n",
      "https://image-comic.pstatic.net/webtoon/662774/142/20180707225814_4b71bd0a142a9bb0cbc9c1bf5f2742a8_IMAG01_28.jpg\n",
      "https://image-comic.pstatic.net/webtoon/662774/142/20180707225814_4b71bd0a142a9bb0cbc9c1bf5f2742a8_IMAG01_29.jpg\n",
      "https://image-comic.pstatic.net/webtoon/662774/142/20180707225814_4b71bd0a142a9bb0cbc9c1bf5f2742a8_IMAG01_30.jpg\n",
      "https://image-comic.pstatic.net/webtoon/662774/142/20180707225814_4b71bd0a142a9bb0cbc9c1bf5f2742a8_IMAG01_31.jpg\n",
      "https://image-comic.pstatic.net/webtoon/662774/142/20180707225814_4b71bd0a142a9bb0cbc9c1bf5f2742a8_IMAG01_32.jpg\n",
      "https://image-comic.pstatic.net/webtoon/662774/142/20180707225814_4b71bd0a142a9bb0cbc9c1bf5f2742a8_IMAG01_33.jpg\n",
      "https://image-comic.pstatic.net/webtoon/662774/142/20180707225814_4b71bd0a142a9bb0cbc9c1bf5f2742a8_IMAG01_34.jpg\n",
      "https://image-comic.pstatic.net/webtoon/662774/142/20180707225814_4b71bd0a142a9bb0cbc9c1bf5f2742a8_IMAG01_35.jpg\n",
      "https://image-comic.pstatic.net/webtoon/662774/142/20180707225814_4b71bd0a142a9bb0cbc9c1bf5f2742a8_IMAG01_36.jpg\n",
      "https://image-comic.pstatic.net/webtoon/662774/142/20180707225814_4b71bd0a142a9bb0cbc9c1bf5f2742a8_IMAG01_37.jpg\n",
      "https://image-comic.pstatic.net/webtoon/662774/142/20180707225814_4b71bd0a142a9bb0cbc9c1bf5f2742a8_IMAG01_38.jpg\n",
      "https://image-comic.pstatic.net/webtoon/662774/142/20180707225814_4b71bd0a142a9bb0cbc9c1bf5f2742a8_IMAG01_39.jpg\n",
      "https://image-comic.pstatic.net/webtoon/662774/142/20180707225814_4b71bd0a142a9bb0cbc9c1bf5f2742a8_IMAG01_40.jpg\n",
      "https://image-comic.pstatic.net/webtoon/662774/142/20180707225814_4b71bd0a142a9bb0cbc9c1bf5f2742a8_IMAG01_41.jpg\n",
      "https://image-comic.pstatic.net/webtoon/662774/142/20180707225814_4b71bd0a142a9bb0cbc9c1bf5f2742a8_IMAG01_42.jpg\n",
      "https://image-comic.pstatic.net/webtoon/662774/142/20180707225814_4b71bd0a142a9bb0cbc9c1bf5f2742a8_IMAG01_43.jpg\n",
      "https://image-comic.pstatic.net/webtoon/662774/142/20180707225814_4b71bd0a142a9bb0cbc9c1bf5f2742a8_IMAG01_44.jpg\n",
      "https://image-comic.pstatic.net/webtoon/662774/142/20180707225814_4b71bd0a142a9bb0cbc9c1bf5f2742a8_IMAG01_45.jpg\n",
      "https://image-comic.pstatic.net/webtoon/662774/142/20180707225814_4b71bd0a142a9bb0cbc9c1bf5f2742a8_IMAG01_46.jpg\n",
      "https://image-comic.pstatic.net/webtoon/662774/142/20180707225814_4b71bd0a142a9bb0cbc9c1bf5f2742a8_IMAG01_47.jpg\n",
      "https://image-comic.pstatic.net/webtoon/662774/142/20180707225814_4b71bd0a142a9bb0cbc9c1bf5f2742a8_IMAG01_48.jpg\n",
      "https://image-comic.pstatic.net/webtoon/662774/142/20180707225814_4b71bd0a142a9bb0cbc9c1bf5f2742a8_IMAG01_49.jpg\n",
      "https://image-comic.pstatic.net/webtoon/662774/142/20180707225814_4b71bd0a142a9bb0cbc9c1bf5f2742a8_IMAG01_50.jpg\n",
      "https://image-comic.pstatic.net/webtoon/662774/142/20180707225814_4b71bd0a142a9bb0cbc9c1bf5f2742a8_IMAG01_51.jpg\n",
      "https://image-comic.pstatic.net/webtoon/662774/142/20180707225814_4b71bd0a142a9bb0cbc9c1bf5f2742a8_IMAG01_52.jpg\n",
      "https://image-comic.pstatic.net/webtoon/662774/142/20180707225814_4b71bd0a142a9bb0cbc9c1bf5f2742a8_IMAG01_53.jpg\n",
      "https://image-comic.pstatic.net/webtoon/662774/142/20180707225814_4b71bd0a142a9bb0cbc9c1bf5f2742a8_IMAG01_54.jpg\n",
      "https://image-comic.pstatic.net/webtoon/662774/142/20180707225814_4b71bd0a142a9bb0cbc9c1bf5f2742a8_IMAG01_55.jpg\n",
      "https://image-comic.pstatic.net/webtoon/662774/142/20180707225814_4b71bd0a142a9bb0cbc9c1bf5f2742a8_IMAG01_56.jpg\n",
      "https://image-comic.pstatic.net/webtoon/662774/142/20180707225814_4b71bd0a142a9bb0cbc9c1bf5f2742a8_IMAG01_57.jpg\n",
      "https://image-comic.pstatic.net/webtoon/662774/142/20180707225814_4b71bd0a142a9bb0cbc9c1bf5f2742a8_IMAG01_58.jpg\n",
      "https://image-comic.pstatic.net/webtoon/662774/142/20180707225814_4b71bd0a142a9bb0cbc9c1bf5f2742a8_IMAG01_59.jpg\n",
      "https://image-comic.pstatic.net/webtoon/662774/142/20180707225814_4b71bd0a142a9bb0cbc9c1bf5f2742a8_IMAG01_60.jpg\n",
      "https://image-comic.pstatic.net/webtoon/662774/142/20180707225814_4b71bd0a142a9bb0cbc9c1bf5f2742a8_IMAG01_61.jpg\n",
      "https://image-comic.pstatic.net/webtoon/662774/142/20180707225814_4b71bd0a142a9bb0cbc9c1bf5f2742a8_IMAG01_62.jpg\n",
      "https://image-comic.pstatic.net/webtoon/662774/142/20180707225814_4b71bd0a142a9bb0cbc9c1bf5f2742a8_IMAG01_63.jpg\n",
      "https://image-comic.pstatic.net/webtoon/662774/142/20180707225814_4b71bd0a142a9bb0cbc9c1bf5f2742a8_IMAG01_64.jpg\n",
      "https://image-comic.pstatic.net/webtoon/662774/142/20180707225814_4b71bd0a142a9bb0cbc9c1bf5f2742a8_IMAG01_65.jpg\n",
      "https://image-comic.pstatic.net/webtoon/662774/142/20180707225814_4b71bd0a142a9bb0cbc9c1bf5f2742a8_IMAG01_66.jpg\n",
      "https://image-comic.pstatic.net/webtoon/662774/142/20180707225814_4b71bd0a142a9bb0cbc9c1bf5f2742a8_IMAG01_67.jpg\n",
      "https://image-comic.pstatic.net/webtoon/662774/142/20180707225814_4b71bd0a142a9bb0cbc9c1bf5f2742a8_IMAG01_68.jpg\n",
      "https://image-comic.pstatic.net/webtoon/662774/142/20180707225814_4b71bd0a142a9bb0cbc9c1bf5f2742a8_IMAG01_69.jpg\n",
      "https://image-comic.pstatic.net/webtoon/662774/142/20180707225814_4b71bd0a142a9bb0cbc9c1bf5f2742a8_IMAG01_70.jpg\n",
      "https://image-comic.pstatic.net/webtoon/662774/142/20180707225814_4b71bd0a142a9bb0cbc9c1bf5f2742a8_IMAG01_71.jpg\n",
      "https://image-comic.pstatic.net/webtoon/662774/142/20180707225814_4b71bd0a142a9bb0cbc9c1bf5f2742a8_IMAG01_72.jpg\n",
      "https://image-comic.pstatic.net/webtoon/662774/142/20180707225814_4b71bd0a142a9bb0cbc9c1bf5f2742a8_IMAG01_73.jpg\n",
      "https://image-comic.pstatic.net/webtoon/662774/142/20180707225814_4b71bd0a142a9bb0cbc9c1bf5f2742a8_IMAG01_74.jpg\n",
      "https://image-comic.pstatic.net/webtoon/662774/142/20180707225814_4b71bd0a142a9bb0cbc9c1bf5f2742a8_IMAG01_75.jpg\n",
      "https://image-comic.pstatic.net/webtoon/662774/142/20180707225814_4b71bd0a142a9bb0cbc9c1bf5f2742a8_IMAG01_76.jpg\n"
     ]
    },
    {
     "ename": "MissingSchema",
     "evalue": "Invalid URL '': No schema supplied. Perhaps you meant http://?",
     "output_type": "error",
     "traceback": [
      "\u001b[0;31m---------------------------------------------------------------------------\u001b[0m",
      "\u001b[0;31mMissingSchema\u001b[0m                             Traceback (most recent call last)",
      "\u001b[0;32m<ipython-input-4-450a06b28247>\u001b[0m in \u001b[0;36m<module>\u001b[0;34m()\u001b[0m\n\u001b[1;32m      1\u001b[0m \u001b[0;32mfor\u001b[0m \u001b[0mimage_url\u001b[0m \u001b[0;32min\u001b[0m \u001b[0mimage_url_list\u001b[0m\u001b[0;34m:\u001b[0m\u001b[0;34m\u001b[0m\u001b[0m\n\u001b[0;32m----> 2\u001b[0;31m     \u001b[0mres\u001b[0m \u001b[0;34m=\u001b[0m \u001b[0mrequests\u001b[0m\u001b[0;34m.\u001b[0m\u001b[0mget\u001b[0m\u001b[0;34m(\u001b[0m\u001b[0mimage_url\u001b[0m\u001b[0;34m,\u001b[0m \u001b[0mheaders\u001b[0m\u001b[0;34m=\u001b[0m\u001b[0;34m{\u001b[0m\u001b[0;34m'Referer'\u001b[0m\u001b[0;34m:\u001b[0m \u001b[0mcomic_url\u001b[0m\u001b[0;34m}\u001b[0m\u001b[0;34m)\u001b[0m\u001b[0;34m\u001b[0m\u001b[0m\n\u001b[0m\u001b[1;32m      3\u001b[0m     \u001b[0mimage_data\u001b[0m \u001b[0;34m=\u001b[0m \u001b[0mres\u001b[0m\u001b[0;34m.\u001b[0m\u001b[0mcontent\u001b[0m\u001b[0;34m\u001b[0m\u001b[0m\n\u001b[1;32m      4\u001b[0m     \u001b[0mimage_name\u001b[0m \u001b[0;34m=\u001b[0m \u001b[0mos\u001b[0m\u001b[0;34m.\u001b[0m\u001b[0mpath\u001b[0m\u001b[0;34m.\u001b[0m\u001b[0mbasename\u001b[0m\u001b[0;34m(\u001b[0m\u001b[0mimage_url\u001b[0m\u001b[0;34m)\u001b[0m\u001b[0;34m\u001b[0m\u001b[0m\n\u001b[1;32m      5\u001b[0m \u001b[0;34m\u001b[0m\u001b[0m\n",
      "\u001b[0;32m/usr/local/lib/python3.6/site-packages/requests/api.py\u001b[0m in \u001b[0;36mget\u001b[0;34m(url, params, **kwargs)\u001b[0m\n\u001b[1;32m     70\u001b[0m \u001b[0;34m\u001b[0m\u001b[0m\n\u001b[1;32m     71\u001b[0m     \u001b[0mkwargs\u001b[0m\u001b[0;34m.\u001b[0m\u001b[0msetdefault\u001b[0m\u001b[0;34m(\u001b[0m\u001b[0;34m'allow_redirects'\u001b[0m\u001b[0;34m,\u001b[0m \u001b[0;32mTrue\u001b[0m\u001b[0;34m)\u001b[0m\u001b[0;34m\u001b[0m\u001b[0m\n\u001b[0;32m---> 72\u001b[0;31m     \u001b[0;32mreturn\u001b[0m \u001b[0mrequest\u001b[0m\u001b[0;34m(\u001b[0m\u001b[0;34m'get'\u001b[0m\u001b[0;34m,\u001b[0m \u001b[0murl\u001b[0m\u001b[0;34m,\u001b[0m \u001b[0mparams\u001b[0m\u001b[0;34m=\u001b[0m\u001b[0mparams\u001b[0m\u001b[0;34m,\u001b[0m \u001b[0;34m**\u001b[0m\u001b[0mkwargs\u001b[0m\u001b[0;34m)\u001b[0m\u001b[0;34m\u001b[0m\u001b[0m\n\u001b[0m\u001b[1;32m     73\u001b[0m \u001b[0;34m\u001b[0m\u001b[0m\n\u001b[1;32m     74\u001b[0m \u001b[0;34m\u001b[0m\u001b[0m\n",
      "\u001b[0;32m/usr/local/lib/python3.6/site-packages/requests/api.py\u001b[0m in \u001b[0;36mrequest\u001b[0;34m(method, url, **kwargs)\u001b[0m\n\u001b[1;32m     56\u001b[0m     \u001b[0;31m# cases, and look like a memory leak in others.\u001b[0m\u001b[0;34m\u001b[0m\u001b[0;34m\u001b[0m\u001b[0m\n\u001b[1;32m     57\u001b[0m     \u001b[0;32mwith\u001b[0m \u001b[0msessions\u001b[0m\u001b[0;34m.\u001b[0m\u001b[0mSession\u001b[0m\u001b[0;34m(\u001b[0m\u001b[0;34m)\u001b[0m \u001b[0;32mas\u001b[0m \u001b[0msession\u001b[0m\u001b[0;34m:\u001b[0m\u001b[0;34m\u001b[0m\u001b[0m\n\u001b[0;32m---> 58\u001b[0;31m         \u001b[0;32mreturn\u001b[0m \u001b[0msession\u001b[0m\u001b[0;34m.\u001b[0m\u001b[0mrequest\u001b[0m\u001b[0;34m(\u001b[0m\u001b[0mmethod\u001b[0m\u001b[0;34m=\u001b[0m\u001b[0mmethod\u001b[0m\u001b[0;34m,\u001b[0m \u001b[0murl\u001b[0m\u001b[0;34m=\u001b[0m\u001b[0murl\u001b[0m\u001b[0;34m,\u001b[0m \u001b[0;34m**\u001b[0m\u001b[0mkwargs\u001b[0m\u001b[0;34m)\u001b[0m\u001b[0;34m\u001b[0m\u001b[0m\n\u001b[0m\u001b[1;32m     59\u001b[0m \u001b[0;34m\u001b[0m\u001b[0m\n\u001b[1;32m     60\u001b[0m \u001b[0;34m\u001b[0m\u001b[0m\n",
      "\u001b[0;32m/usr/local/lib/python3.6/site-packages/requests/sessions.py\u001b[0m in \u001b[0;36mrequest\u001b[0;34m(self, method, url, params, data, headers, cookies, files, auth, timeout, allow_redirects, proxies, hooks, stream, verify, cert, json)\u001b[0m\n\u001b[1;32m    496\u001b[0m             \u001b[0mhooks\u001b[0m\u001b[0;34m=\u001b[0m\u001b[0mhooks\u001b[0m\u001b[0;34m,\u001b[0m\u001b[0;34m\u001b[0m\u001b[0m\n\u001b[1;32m    497\u001b[0m         )\n\u001b[0;32m--> 498\u001b[0;31m         \u001b[0mprep\u001b[0m \u001b[0;34m=\u001b[0m \u001b[0mself\u001b[0m\u001b[0;34m.\u001b[0m\u001b[0mprepare_request\u001b[0m\u001b[0;34m(\u001b[0m\u001b[0mreq\u001b[0m\u001b[0;34m)\u001b[0m\u001b[0;34m\u001b[0m\u001b[0m\n\u001b[0m\u001b[1;32m    499\u001b[0m \u001b[0;34m\u001b[0m\u001b[0m\n\u001b[1;32m    500\u001b[0m         \u001b[0mproxies\u001b[0m \u001b[0;34m=\u001b[0m \u001b[0mproxies\u001b[0m \u001b[0;32mor\u001b[0m \u001b[0;34m{\u001b[0m\u001b[0;34m}\u001b[0m\u001b[0;34m\u001b[0m\u001b[0m\n",
      "\u001b[0;32m/usr/local/lib/python3.6/site-packages/requests/sessions.py\u001b[0m in \u001b[0;36mprepare_request\u001b[0;34m(self, request)\u001b[0m\n\u001b[1;32m    439\u001b[0m             \u001b[0mauth\u001b[0m\u001b[0;34m=\u001b[0m\u001b[0mmerge_setting\u001b[0m\u001b[0;34m(\u001b[0m\u001b[0mauth\u001b[0m\u001b[0;34m,\u001b[0m \u001b[0mself\u001b[0m\u001b[0;34m.\u001b[0m\u001b[0mauth\u001b[0m\u001b[0;34m)\u001b[0m\u001b[0;34m,\u001b[0m\u001b[0;34m\u001b[0m\u001b[0m\n\u001b[1;32m    440\u001b[0m             \u001b[0mcookies\u001b[0m\u001b[0;34m=\u001b[0m\u001b[0mmerged_cookies\u001b[0m\u001b[0;34m,\u001b[0m\u001b[0;34m\u001b[0m\u001b[0m\n\u001b[0;32m--> 441\u001b[0;31m             \u001b[0mhooks\u001b[0m\u001b[0;34m=\u001b[0m\u001b[0mmerge_hooks\u001b[0m\u001b[0;34m(\u001b[0m\u001b[0mrequest\u001b[0m\u001b[0;34m.\u001b[0m\u001b[0mhooks\u001b[0m\u001b[0;34m,\u001b[0m \u001b[0mself\u001b[0m\u001b[0;34m.\u001b[0m\u001b[0mhooks\u001b[0m\u001b[0;34m)\u001b[0m\u001b[0;34m,\u001b[0m\u001b[0;34m\u001b[0m\u001b[0m\n\u001b[0m\u001b[1;32m    442\u001b[0m         )\n\u001b[1;32m    443\u001b[0m         \u001b[0;32mreturn\u001b[0m \u001b[0mp\u001b[0m\u001b[0;34m\u001b[0m\u001b[0m\n",
      "\u001b[0;32m/usr/local/lib/python3.6/site-packages/requests/models.py\u001b[0m in \u001b[0;36mprepare\u001b[0;34m(self, method, url, headers, files, data, params, auth, cookies, hooks, json)\u001b[0m\n\u001b[1;32m    307\u001b[0m \u001b[0;34m\u001b[0m\u001b[0m\n\u001b[1;32m    308\u001b[0m         \u001b[0mself\u001b[0m\u001b[0;34m.\u001b[0m\u001b[0mprepare_method\u001b[0m\u001b[0;34m(\u001b[0m\u001b[0mmethod\u001b[0m\u001b[0;34m)\u001b[0m\u001b[0;34m\u001b[0m\u001b[0m\n\u001b[0;32m--> 309\u001b[0;31m         \u001b[0mself\u001b[0m\u001b[0;34m.\u001b[0m\u001b[0mprepare_url\u001b[0m\u001b[0;34m(\u001b[0m\u001b[0murl\u001b[0m\u001b[0;34m,\u001b[0m \u001b[0mparams\u001b[0m\u001b[0;34m)\u001b[0m\u001b[0;34m\u001b[0m\u001b[0m\n\u001b[0m\u001b[1;32m    310\u001b[0m         \u001b[0mself\u001b[0m\u001b[0;34m.\u001b[0m\u001b[0mprepare_headers\u001b[0m\u001b[0;34m(\u001b[0m\u001b[0mheaders\u001b[0m\u001b[0;34m)\u001b[0m\u001b[0;34m\u001b[0m\u001b[0m\n\u001b[1;32m    311\u001b[0m         \u001b[0mself\u001b[0m\u001b[0;34m.\u001b[0m\u001b[0mprepare_cookies\u001b[0m\u001b[0;34m(\u001b[0m\u001b[0mcookies\u001b[0m\u001b[0;34m)\u001b[0m\u001b[0;34m\u001b[0m\u001b[0m\n",
      "\u001b[0;32m/usr/local/lib/python3.6/site-packages/requests/models.py\u001b[0m in \u001b[0;36mprepare_url\u001b[0;34m(self, url, params)\u001b[0m\n\u001b[1;32m    381\u001b[0m             \u001b[0merror\u001b[0m \u001b[0;34m=\u001b[0m \u001b[0merror\u001b[0m\u001b[0;34m.\u001b[0m\u001b[0mformat\u001b[0m\u001b[0;34m(\u001b[0m\u001b[0mto_native_string\u001b[0m\u001b[0;34m(\u001b[0m\u001b[0murl\u001b[0m\u001b[0;34m,\u001b[0m \u001b[0;34m'utf8'\u001b[0m\u001b[0;34m)\u001b[0m\u001b[0;34m)\u001b[0m\u001b[0;34m\u001b[0m\u001b[0m\n\u001b[1;32m    382\u001b[0m \u001b[0;34m\u001b[0m\u001b[0m\n\u001b[0;32m--> 383\u001b[0;31m             \u001b[0;32mraise\u001b[0m \u001b[0mMissingSchema\u001b[0m\u001b[0;34m(\u001b[0m\u001b[0merror\u001b[0m\u001b[0;34m)\u001b[0m\u001b[0;34m\u001b[0m\u001b[0m\n\u001b[0m\u001b[1;32m    384\u001b[0m \u001b[0;34m\u001b[0m\u001b[0m\n\u001b[1;32m    385\u001b[0m         \u001b[0;32mif\u001b[0m \u001b[0;32mnot\u001b[0m \u001b[0mhost\u001b[0m\u001b[0;34m:\u001b[0m\u001b[0;34m\u001b[0m\u001b[0m\n",
      "\u001b[0;31mMissingSchema\u001b[0m: Invalid URL '': No schema supplied. Perhaps you meant http://?"
     ]
    }
   ],
   "source": [
    "for image_url in image_url_list:\n",
    "    res = requests.get(image_url, headers={'Referer': comic_url})\n",
    "    image_data = res.content\n",
    "    image_name = os.path.basename(image_url)\n",
    "    \n",
    "    print(image_url)\n",
    "    with open(image_name, 'wb') as f:\n",
    "        f.write(image_data)"
   ]
  },
  {
   "cell_type": "markdown",
   "metadata": {
    "collapsed": true
   },
   "source": [
    "### 집합"
   ]
  },
  {
   "cell_type": "code",
   "execution_count": 6,
   "metadata": {},
   "outputs": [
    {
     "data": {
      "text/plain": [
       "[1, 3, 4, 5, 1, 4, 3, 1]"
      ]
     },
     "execution_count": 6,
     "metadata": {},
     "output_type": "execute_result"
    }
   ],
   "source": [
    "set_numbers=[1,3,4,5,1,4,3,1]\n",
    "set_numbers"
   ]
  },
  {
   "cell_type": "code",
   "execution_count": 7,
   "metadata": {},
   "outputs": [
    {
     "data": {
      "text/plain": [
       "{1, 3, 4, 5}"
      ]
     },
     "execution_count": 7,
     "metadata": {},
     "output_type": "execute_result"
    }
   ],
   "source": [
    "set_numbers={1,3,4,5,1,4,3,1} # 중갈호를 이용한 SET 집합형  중복 배제\n",
    "set_numbers"
   ]
  },
  {
   "cell_type": "code",
   "execution_count": 9,
   "metadata": {},
   "outputs": [
    {
     "name": "stdout",
     "output_type": "stream",
     "text": [
      "1\n",
      "3\n",
      "4\n",
      "5\n"
     ]
    }
   ],
   "source": [
    "for value in set_numbers: #임의 순서대로 정렬이 되어있다. 오름차순 정렬 x\n",
    "    print(value)"
   ]
  },
  {
   "cell_type": "code",
   "execution_count": 11,
   "metadata": {},
   "outputs": [
    {
     "name": "stdout",
     "output_type": "stream",
     "text": [
      "1\n",
      "3\n",
      "4\n",
      "5\n"
     ]
    }
   ],
   "source": [
    "for value in sorted(set_numbers): #오름차순 정령\n",
    "    print(value)"
   ]
  },
  {
   "cell_type": "code",
   "execution_count": 13,
   "metadata": {},
   "outputs": [
    {
     "name": "stdout",
     "output_type": "stream",
     "text": [
      "5\n",
      "4\n",
      "3\n",
      "1\n"
     ]
    }
   ],
   "source": [
    "for value in sorted(set_numbers, reverse=True): #내림차순 정령\n",
    "    print(value)"
   ]
  },
  {
   "cell_type": "code",
   "execution_count": 14,
   "metadata": {
    "collapsed": true
   },
   "outputs": [],
   "source": [
    "mylist = [] #empty list\n",
    "mylist = list()\n",
    "\n",
    "mytuple = ()#empty tuple\n",
    "mytuple = tuple()\n",
    "\n",
    "myset = set() #empty set\n",
    "\n",
    "mydict = () #empty dict\n",
    "mydict = dict()"
   ]
  },
  {
   "cell_type": "code",
   "execution_count": 16,
   "metadata": {
    "collapsed": true
   },
   "outputs": [],
   "source": [
    "myset = {1,2,3}\n",
    "mydict={'a': 1, 'b': 2, 'c': 3}"
   ]
  },
  {
   "cell_type": "code",
   "execution_count": 17,
   "metadata": {},
   "outputs": [
    {
     "data": {
      "text/plain": [
       "[1, 2, 3, 4]"
      ]
     },
     "execution_count": 17,
     "metadata": {},
     "output_type": "execute_result"
    }
   ],
   "source": [
    "mylist = {1,2,3,1,2,3,1,2,3,4}\n",
    "list(set(mylist))"
   ]
  },
  {
   "cell_type": "markdown",
   "metadata": {},
   "source": [
    "## 사전(dict)"
   ]
  },
  {
   "cell_type": "code",
   "execution_count": 24,
   "metadata": {
    "collapsed": true
   },
   "outputs": [],
   "source": [
    "학생목록 = [\n",
    "    {'이름': '김철수', '국어': 100, '영어': 50, '수학': 50,},\n",
    "    {'이름': '이영희', '국어': 80, '영어': 30, '수학': 50,},\n",
    "    {'이름': '배칠수', '국어': 70, '영어': 100, '수학': 90,},\n",
    "]"
   ]
  },
  {
   "cell_type": "code",
   "execution_count": 25,
   "metadata": {},
   "outputs": [
    {
     "name": "stdout",
     "output_type": "stream",
     "text": [
      "김철수 66\n",
      "이영희 53\n",
      "배칠수 86\n"
     ]
    }
   ],
   "source": [
    "for 학생 in 학생목록:\n",
    "    평균 = (학생['국어'] + 학생['영어'] + 학생['수학']) // 3\n",
    "    print(학생['이름'], 평균)"
   ]
  },
  {
   "cell_type": "code",
   "execution_count": 26,
   "metadata": {},
   "outputs": [
    {
     "data": {
      "text/plain": [
       "{'이름': '김철수', '국어': 100, '영어': 50, '수학': 50}"
      ]
     },
     "execution_count": 26,
     "metadata": {},
     "output_type": "execute_result"
    }
   ],
   "source": [
    "철수 = {'이름': '김철수', '국어': 100, '영어': 50, '수학': 50,}\n",
    "철수"
   ]
  },
  {
   "cell_type": "code",
   "execution_count": 27,
   "metadata": {},
   "outputs": [
    {
     "data": {
      "text/plain": [
       "{'이름': '김철수', '국어': 100, '영어': 50, '수학': 50, '음악': 90}"
      ]
     },
     "execution_count": 27,
     "metadata": {},
     "output_type": "execute_result"
    }
   ],
   "source": [
    "철수['음악']=90\n",
    "철수"
   ]
  },
  {
   "cell_type": "code",
   "execution_count": 29,
   "metadata": {},
   "outputs": [
    {
     "data": {
      "text/plain": [
       "{'국어': 100, '영어': 50, '수학': 50, '음악': 90}"
      ]
     },
     "execution_count": 29,
     "metadata": {},
     "output_type": "execute_result"
    }
   ],
   "source": [
    "del 철수['이름']\n",
    "철수"
   ]
  },
  {
   "cell_type": "markdown",
   "metadata": {},
   "source": [
    "### 주석"
   ]
  },
  {
   "cell_type": "code",
   "execution_count": 30,
   "metadata": {
    "collapsed": true
   },
   "outputs": [],
   "source": [
    "# 인자로 받은 x, y. 2개 값을 더한 값을 리턴해줍니다.\n",
    "def mysum(x, y):\n",
    "    return x + y + 10"
   ]
  },
  {
   "cell_type": "code",
   "execution_count": 31,
   "metadata": {},
   "outputs": [
    {
     "data": {
      "text/plain": [
       "13"
      ]
     },
     "execution_count": 31,
     "metadata": {},
     "output_type": "execute_result"
    }
   ],
   "source": [
    "mysum(1, 2)"
   ]
  },
  {
   "cell_type": "code",
   "execution_count": 32,
   "metadata": {
    "collapsed": true
   },
   "outputs": [],
   "source": [
    "'''\n",
    "인자로 받은 x, y. 2개 값을 더한 값을 리턴해줍니다.\n",
    " - x\n",
    " - y\n",
    "'''\n",
    "\n",
    "def mysum(x, y):\n",
    "    return x + y + 10"
   ]
  },
  {
   "cell_type": "code",
   "execution_count": 33,
   "metadata": {
    "collapsed": true
   },
   "outputs": [],
   "source": [
    "def mysum(x, y):\n",
    "    '''\n",
    "    인자로 받은 x, y. 2개 값을 더한 값을 리턴해줍니다.\n",
    "    '''\n",
    "    return x + y + 10"
   ]
  },
  {
   "cell_type": "code",
   "execution_count": 34,
   "metadata": {
    "collapsed": true
   },
   "outputs": [],
   "source": [
    "mysum?"
   ]
  },
  {
   "cell_type": "code",
   "execution_count": 37,
   "metadata": {},
   "outputs": [
    {
     "data": {
      "text/plain": [
       "{'Tom': 10, 'Steve': 12, 'John': 9, 'Anderson': 14, 'Bell': 8}"
      ]
     },
     "execution_count": 37,
     "metadata": {},
     "output_type": "execute_result"
    }
   ],
   "source": [
    "names = {\n",
    "    'Tom': 10,\n",
    "    'Steve': 12,\n",
    "    'John': 9,\n",
    "    'Anderson': 14,\n",
    "    'Bell': 8,\n",
    "}\n",
    "names"
   ]
  },
  {
   "cell_type": "markdown",
   "metadata": {},
   "source": [
    "### 함수"
   ]
  },
  {
   "cell_type": "code",
   "execution_count": 38,
   "metadata": {
    "collapsed": true
   },
   "outputs": [],
   "source": [
    "def myprint(message, times):\n",
    "    for i in range(times):\n",
    "        print(message)"
   ]
  },
  {
   "cell_type": "code",
   "execution_count": 39,
   "metadata": {},
   "outputs": [
    {
     "name": "stdout",
     "output_type": "stream",
     "text": [
      "hello\n",
      "hello\n",
      "hello\n"
     ]
    }
   ],
   "source": [
    "리턴값 = myprint(\"hello\", 3)"
   ]
  },
  {
   "cell_type": "code",
   "execution_count": 41,
   "metadata": {},
   "outputs": [
    {
     "name": "stdout",
     "output_type": "stream",
     "text": [
      "None\n"
     ]
    }
   ],
   "source": [
    "print(리턴값)"
   ]
  },
  {
   "cell_type": "code",
   "execution_count": 42,
   "metadata": {
    "collapsed": true
   },
   "outputs": [],
   "source": [
    "def mysum(x,y):\n",
    "    if x > 0:\n",
    "        return x+y+10\n",
    "    "
   ]
  },
  {
   "cell_type": "code",
   "execution_count": 44,
   "metadata": {
    "collapsed": true
   },
   "outputs": [],
   "source": [
    "mysum(-1,2) # if문에 없는 일이라서 값이 나오지 않음 None|"
   ]
  },
  {
   "cell_type": "code",
   "execution_count": 48,
   "metadata": {},
   "outputs": [
    {
     "data": {
      "text/plain": [
       "'안녕, 철수아. 부산에서 왔구나.'"
      ]
     },
     "execution_count": 48,
     "metadata": {},
     "output_type": "execute_result"
    }
   ],
   "source": [
    "'안녕, {이름}아. {지역}에서 왔구나.' .format(이름=\"철수\", 지역=\"부산\")"
   ]
  },
  {
   "cell_type": "code",
   "execution_count": 50,
   "metadata": {
    "collapsed": true
   },
   "outputs": [],
   "source": [
    "def mysum(x,y):\n",
    "    return x ** y + 10"
   ]
  },
  {
   "cell_type": "code",
   "execution_count": 51,
   "metadata": {},
   "outputs": [
    {
     "data": {
      "text/plain": [
       "11"
      ]
     },
     "execution_count": 51,
     "metadata": {},
     "output_type": "execute_result"
    }
   ],
   "source": [
    "mysum(1,2)"
   ]
  },
  {
   "cell_type": "code",
   "execution_count": 52,
   "metadata": {},
   "outputs": [
    {
     "data": {
      "text/plain": [
       "12"
      ]
     },
     "execution_count": 52,
     "metadata": {},
     "output_type": "execute_result"
    }
   ],
   "source": [
    "mysum(2,1)"
   ]
  },
  {
   "cell_type": "code",
   "execution_count": 53,
   "metadata": {},
   "outputs": [
    {
     "data": {
      "text/plain": [
       "12"
      ]
     },
     "execution_count": 53,
     "metadata": {},
     "output_type": "execute_result"
    }
   ],
   "source": [
    "mysum(x=2,y=1)"
   ]
  },
  {
   "cell_type": "code",
   "execution_count": 54,
   "metadata": {},
   "outputs": [
    {
     "data": {
      "text/plain": [
       "11"
      ]
     },
     "execution_count": 54,
     "metadata": {},
     "output_type": "execute_result"
    }
   ],
   "source": [
    "mysum(x=1,y=2)"
   ]
  },
  {
   "cell_type": "code",
   "execution_count": 55,
   "metadata": {},
   "outputs": [
    {
     "data": {
      "text/plain": [
       "11"
      ]
     },
     "execution_count": 55,
     "metadata": {},
     "output_type": "execute_result"
    }
   ],
   "source": [
    "mysum(y=2,x=1)"
   ]
  },
  {
   "cell_type": "code",
   "execution_count": 56,
   "metadata": {
    "collapsed": true
   },
   "outputs": [],
   "source": [
    "def mysum(x,y,base=0):\n",
    "    return x**y+base"
   ]
  },
  {
   "cell_type": "code",
   "execution_count": 57,
   "metadata": {
    "collapsed": true
   },
   "outputs": [],
   "source": [
    "import pandas as pd\n",
    "pd.DataFrame?"
   ]
  },
  {
   "cell_type": "markdown",
   "metadata": {},
   "source": [
    "### packing /unpacking"
   ]
  },
  {
   "cell_type": "code",
   "execution_count": 59,
   "metadata": {},
   "outputs": [
    {
     "data": {
      "text/plain": [
       "[10, 20, 30, 40]"
      ]
     },
     "execution_count": 59,
     "metadata": {},
     "output_type": "execute_result"
    }
   ],
   "source": [
    "v1 =10\n",
    "v2 =20\n",
    "v3 =30\n",
    "v4 =40\n",
    "\n",
    "[v1, v2, v3, v4] #packing"
   ]
  },
  {
   "cell_type": "code",
   "execution_count": 60,
   "metadata": {
    "collapsed": true
   },
   "outputs": [],
   "source": [
    "mylist = [ 10, 20, 30, 45]\n",
    "v1, v2, v3, v4 = mylist #unpacking"
   ]
  },
  {
   "cell_type": "code",
   "execution_count": 61,
   "metadata": {
    "collapsed": true
   },
   "outputs": [],
   "source": [
    "def mysum(a, b, c, d, e):\n",
    "    return a+b+c+d+e"
   ]
  },
  {
   "cell_type": "code",
   "execution_count": 64,
   "metadata": {},
   "outputs": [
    {
     "data": {
      "text/plain": [
       "150"
      ]
     },
     "execution_count": 64,
     "metadata": {},
     "output_type": "execute_result"
    }
   ],
   "source": [
    "values=[10, 20, 30, 40, 50]\n",
    "\n",
    "mysum(values[0], values[1], values[2], values[3], values[4])"
   ]
  },
  {
   "cell_type": "code",
   "execution_count": 65,
   "metadata": {},
   "outputs": [
    {
     "data": {
      "text/plain": [
       "150"
      ]
     },
     "execution_count": 65,
     "metadata": {},
     "output_type": "execute_result"
    }
   ],
   "source": [
    "values = [10, 20, 30, 40, 50]\n",
    "mysum(*values)"
   ]
  },
  {
   "cell_type": "markdown",
   "metadata": {},
   "source": [
    "### 익명함수\n",
    "\n",
    "파이썬은 1급 함수 (First-Class Function)를 지원하는 언어입니다."
   ]
  },
  {
   "cell_type": "code",
   "execution_count": 66,
   "metadata": {
    "collapsed": true
   },
   "outputs": [],
   "source": [
    "def mysum(x, y):\n",
    "    return x+y+10"
   ]
  },
  {
   "cell_type": "code",
   "execution_count": 67,
   "metadata": {
    "collapsed": true
   },
   "outputs": [],
   "source": [
    "fn = mysum"
   ]
  },
  {
   "cell_type": "code",
   "execution_count": 68,
   "metadata": {},
   "outputs": [
    {
     "data": {
      "text/plain": [
       "13"
      ]
     },
     "execution_count": 68,
     "metadata": {},
     "output_type": "execute_result"
    }
   ],
   "source": [
    "fn(1,2)"
   ]
  },
  {
   "cell_type": "code",
   "execution_count": 71,
   "metadata": {},
   "outputs": [
    {
     "data": {
      "text/plain": [
       "13"
      ]
     },
     "execution_count": 71,
     "metadata": {},
     "output_type": "execute_result"
    }
   ],
   "source": [
    "(lambda x, y: x+y+10)(1,2)"
   ]
  },
  {
   "cell_type": "code",
   "execution_count": 72,
   "metadata": {
    "collapsed": true
   },
   "outputs": [],
   "source": [
    "mysum = lambda x,y: x+y+10"
   ]
  },
  {
   "cell_type": "code",
   "execution_count": 73,
   "metadata": {},
   "outputs": [
    {
     "data": {
      "text/plain": [
       "13"
      ]
     },
     "execution_count": 73,
     "metadata": {},
     "output_type": "execute_result"
    }
   ],
   "source": [
    "mysum(1,2)"
   ]
  },
  {
   "cell_type": "code",
   "execution_count": null,
   "metadata": {
    "collapsed": true
   },
   "outputs": [],
   "source": []
  },
  {
   "cell_type": "code",
   "execution_count": null,
   "metadata": {
    "collapsed": true
   },
   "outputs": [],
   "source": []
  },
  {
   "cell_type": "code",
   "execution_count": 74,
   "metadata": {
    "collapsed": true
   },
   "outputs": [],
   "source": [
    "def make_fn(base):\n",
    "    fn = lambda x, y: x+y+base\n",
    "    return fn"
   ]
  },
  {
   "cell_type": "code",
   "execution_count": 77,
   "metadata": {
    "collapsed": true
   },
   "outputs": [],
   "source": [
    "base_10 = make_fn(10)\n",
    "base_20 = make_fn(20)\n",
    "base_30 = make_fn(30)"
   ]
  },
  {
   "cell_type": "code",
   "execution_count": 1,
   "metadata": {
    "collapsed": true
   },
   "outputs": [],
   "source": [
    "def memoize(fn):\n",
    "    cached = {}\n",
    "    def wrap(x, y):\n",
    "        key = (x, y)\n",
    "        if key not in cached:\n",
    "            cached[key] = fn(x, y)\n",
    "        return cached[key]\n",
    "    return wrap\n",
    "\n",
    "\n",
    "@memoize\n",
    "def mysum(x, y):\n",
    "    time.sleep(3)\n",
    "    return x + y + 10\n",
    "\n",
    "@memoize\n",
    "def mymultiply(x, y):\n",
    "    time.sleep(3)\n",
    "    return x * y + 10"
   ]
  },
  {
   "cell_type": "code",
   "execution_count": 2,
   "metadata": {},
   "outputs": [
    {
     "ename": "NameError",
     "evalue": "name 'time' is not defined",
     "output_type": "error",
     "traceback": [
      "\u001b[0;31m---------------------------------------------------------------------------\u001b[0m",
      "\u001b[0;31mNameError\u001b[0m                                 Traceback (most recent call last)",
      "\u001b[0;32m<ipython-input-2-b876695e4817>\u001b[0m in \u001b[0;36m<module>\u001b[0;34m()\u001b[0m\n\u001b[0;32m----> 1\u001b[0;31m \u001b[0mprint\u001b[0m\u001b[0;34m(\u001b[0m\u001b[0mmysum\u001b[0m\u001b[0;34m(\u001b[0m\u001b[0;36m1\u001b[0m\u001b[0;34m,\u001b[0m \u001b[0;36m2\u001b[0m\u001b[0;34m)\u001b[0m\u001b[0;34m)\u001b[0m\u001b[0;34m\u001b[0m\u001b[0m\n\u001b[0m\u001b[1;32m      2\u001b[0m \u001b[0mprint\u001b[0m\u001b[0;34m(\u001b[0m\u001b[0mmysum\u001b[0m\u001b[0;34m(\u001b[0m\u001b[0;36m1\u001b[0m\u001b[0;34m,\u001b[0m \u001b[0;36m2\u001b[0m\u001b[0;34m)\u001b[0m\u001b[0;34m)\u001b[0m\u001b[0;34m\u001b[0m\u001b[0m\n\u001b[1;32m      3\u001b[0m \u001b[0mprint\u001b[0m\u001b[0;34m(\u001b[0m\u001b[0mmysum\u001b[0m\u001b[0;34m(\u001b[0m\u001b[0;36m1\u001b[0m\u001b[0;34m,\u001b[0m \u001b[0;36m2\u001b[0m\u001b[0;34m)\u001b[0m\u001b[0;34m)\u001b[0m\u001b[0;34m\u001b[0m\u001b[0m\n\u001b[1;32m      4\u001b[0m \u001b[0mprint\u001b[0m\u001b[0;34m(\u001b[0m\u001b[0mmymultiply\u001b[0m\u001b[0;34m(\u001b[0m\u001b[0;36m1\u001b[0m\u001b[0;34m,\u001b[0m \u001b[0;36m2\u001b[0m\u001b[0;34m)\u001b[0m\u001b[0;34m)\u001b[0m\u001b[0;34m\u001b[0m\u001b[0m\n",
      "\u001b[0;32m<ipython-input-1-773ed49ea163>\u001b[0m in \u001b[0;36mwrap\u001b[0;34m(x, y)\u001b[0m\n\u001b[1;32m      4\u001b[0m         \u001b[0mkey\u001b[0m \u001b[0;34m=\u001b[0m \u001b[0;34m(\u001b[0m\u001b[0mx\u001b[0m\u001b[0;34m,\u001b[0m \u001b[0my\u001b[0m\u001b[0;34m)\u001b[0m\u001b[0;34m\u001b[0m\u001b[0m\n\u001b[1;32m      5\u001b[0m         \u001b[0;32mif\u001b[0m \u001b[0mkey\u001b[0m \u001b[0;32mnot\u001b[0m \u001b[0;32min\u001b[0m \u001b[0mcached\u001b[0m\u001b[0;34m:\u001b[0m\u001b[0;34m\u001b[0m\u001b[0m\n\u001b[0;32m----> 6\u001b[0;31m             \u001b[0mcached\u001b[0m\u001b[0;34m[\u001b[0m\u001b[0mkey\u001b[0m\u001b[0;34m]\u001b[0m \u001b[0;34m=\u001b[0m \u001b[0mfn\u001b[0m\u001b[0;34m(\u001b[0m\u001b[0mx\u001b[0m\u001b[0;34m,\u001b[0m \u001b[0my\u001b[0m\u001b[0;34m)\u001b[0m\u001b[0;34m\u001b[0m\u001b[0m\n\u001b[0m\u001b[1;32m      7\u001b[0m         \u001b[0;32mreturn\u001b[0m \u001b[0mcached\u001b[0m\u001b[0;34m[\u001b[0m\u001b[0mkey\u001b[0m\u001b[0;34m]\u001b[0m\u001b[0;34m\u001b[0m\u001b[0m\n\u001b[1;32m      8\u001b[0m     \u001b[0;32mreturn\u001b[0m \u001b[0mwrap\u001b[0m\u001b[0;34m\u001b[0m\u001b[0m\n",
      "\u001b[0;32m<ipython-input-1-773ed49ea163>\u001b[0m in \u001b[0;36mmysum\u001b[0;34m(x, y)\u001b[0m\n\u001b[1;32m     11\u001b[0m \u001b[0;34m@\u001b[0m\u001b[0mmemoize\u001b[0m\u001b[0;34m\u001b[0m\u001b[0m\n\u001b[1;32m     12\u001b[0m \u001b[0;32mdef\u001b[0m \u001b[0mmysum\u001b[0m\u001b[0;34m(\u001b[0m\u001b[0mx\u001b[0m\u001b[0;34m,\u001b[0m \u001b[0my\u001b[0m\u001b[0;34m)\u001b[0m\u001b[0;34m:\u001b[0m\u001b[0;34m\u001b[0m\u001b[0m\n\u001b[0;32m---> 13\u001b[0;31m     \u001b[0mtime\u001b[0m\u001b[0;34m.\u001b[0m\u001b[0msleep\u001b[0m\u001b[0;34m(\u001b[0m\u001b[0;36m3\u001b[0m\u001b[0;34m)\u001b[0m\u001b[0;34m\u001b[0m\u001b[0m\n\u001b[0m\u001b[1;32m     14\u001b[0m     \u001b[0;32mreturn\u001b[0m \u001b[0mx\u001b[0m \u001b[0;34m+\u001b[0m \u001b[0my\u001b[0m \u001b[0;34m+\u001b[0m \u001b[0;36m10\u001b[0m\u001b[0;34m\u001b[0m\u001b[0m\n\u001b[1;32m     15\u001b[0m \u001b[0;34m\u001b[0m\u001b[0m\n",
      "\u001b[0;31mNameError\u001b[0m: name 'time' is not defined"
     ]
    }
   ],
   "source": [
    "print(mysum(1, 2))\n",
    "print(mysum(1, 2))\n",
    "print(mysum(1, 2))\n",
    "print(mymultiply(1, 2))"
   ]
  },
  {
   "cell_type": "markdown",
   "metadata": {},
   "source": [
    "### 장식자(Decorators)"
   ]
  },
  {
   "cell_type": "code",
   "execution_count": 3,
   "metadata": {
    "collapsed": true
   },
   "outputs": [],
   "source": [
    "import time"
   ]
  },
  {
   "cell_type": "code",
   "execution_count": 4,
   "metadata": {
    "collapsed": true
   },
   "outputs": [],
   "source": [
    "cached1 = {}\n",
    "\n",
    "def mysum(x, y):\n",
    "    key = (x, y)\n",
    "    if key not in cached1:\n",
    "        time.sleep(3)\n",
    "        cached1[key] = x + y + 10\n",
    "    return cached1[key]\n",
    "\n",
    "cached2 = {}\n",
    "\n",
    "def mymultiply(x, y):\n",
    "    key = (x, y)\n",
    "    if key not in cached2:\n",
    "        time.sleep(3)\n",
    "        cached2[key] = x * y + 10\n",
    "    return cached2[key]"
   ]
  },
  {
   "cell_type": "code",
   "execution_count": 5,
   "metadata": {},
   "outputs": [
    {
     "name": "stdout",
     "output_type": "stream",
     "text": [
      "13\n",
      "13\n",
      "13\n",
      "12\n"
     ]
    }
   ],
   "source": [
    "print(mysum(1, 2))\n",
    "print(mysum(1, 2))\n",
    "print(mysum(1, 2))\n",
    "print(mymultiply(1, 2))"
   ]
  },
  {
   "cell_type": "code",
   "execution_count": null,
   "metadata": {
    "collapsed": true
   },
   "outputs": [],
   "source": []
  },
  {
   "cell_type": "code",
   "execution_count": null,
   "metadata": {
    "collapsed": true
   },
   "outputs": [],
   "source": []
  },
  {
   "cell_type": "code",
   "execution_count": 6,
   "metadata": {
    "collapsed": true
   },
   "outputs": [],
   "source": [
    "def memoize(fn):\n",
    "    cached = {}\n",
    "    def wrap(x, y):\n",
    "        key = (x, y)\n",
    "        if key not in cached:\n",
    "            cached[key] = fn(x, y)\n",
    "        return cached[key]\n",
    "    return wrap\n",
    "\n",
    "\n",
    "@memoize\n",
    "def mysum(x, y):\n",
    "    time.sleep(3)\n",
    "    return x + y + 10\n",
    "\n",
    "@memoize\n",
    "def mymultiply(x, y):\n",
    "    time.sleep(3)\n",
    "    return x * y + 10"
   ]
  },
  {
   "cell_type": "code",
   "execution_count": 7,
   "metadata": {},
   "outputs": [
    {
     "name": "stdout",
     "output_type": "stream",
     "text": [
      "13\n",
      "13\n",
      "13\n",
      "12\n"
     ]
    }
   ],
   "source": [
    "print(mysum(1, 2))\n",
    "print(mysum(1, 2))\n",
    "print(mysum(1, 2))\n",
    "print(mymultiply(1, 2))"
   ]
  },
  {
   "cell_type": "code",
   "execution_count": null,
   "metadata": {
    "collapsed": true
   },
   "outputs": [],
   "source": []
  },
  {
   "cell_type": "code",
   "execution_count": null,
   "metadata": {
    "collapsed": true
   },
   "outputs": [],
   "source": []
  },
  {
   "cell_type": "markdown",
   "metadata": {},
   "source": [
    "### simple"
   ]
  },
  {
   "cell_type": "code",
   "execution_count": 8,
   "metadata": {
    "collapsed": true
   },
   "outputs": [],
   "source": [
    "def base_10(fn):\n",
    "    wrap = lambda x, y: fn(x, y) + 10\n",
    "    return wrap\n"
   ]
  },
  {
   "cell_type": "code",
   "execution_count": 9,
   "metadata": {
    "collapsed": true
   },
   "outputs": [],
   "source": [
    "# def mysum(x, y):\n",
    "#     return x + y\n",
    "\n",
    "# mysum = base_10(mysum)"
   ]
  },
  {
   "cell_type": "code",
   "execution_count": 10,
   "metadata": {
    "collapsed": true
   },
   "outputs": [],
   "source": [
    "@base_10\n",
    "def mysum(x, y):\n",
    "    return x + y"
   ]
  },
  {
   "cell_type": "code",
   "execution_count": 12,
   "metadata": {},
   "outputs": [
    {
     "data": {
      "text/plain": [
       "13"
      ]
     },
     "execution_count": 12,
     "metadata": {},
     "output_type": "execute_result"
    }
   ],
   "source": [
    "mysum(1, 2)"
   ]
  },
  {
   "cell_type": "code",
   "execution_count": 13,
   "metadata": {
    "collapsed": true
   },
   "outputs": [],
   "source": [
    "def base_10(fn):\n",
    "    wrap = lambda x, y: fn(x, y) + 10\n",
    "    return wrap\n",
    "\n",
    "def base_20(fn):\n",
    "    wrap = lambda x, y: fn(x, y) + 20\n",
    "    return wrap\n",
    "\n",
    "def base_30(fn):\n",
    "    wrap = lambda x, y: fn(x, y) + 30\n",
    "    return wrap"
   ]
  },
  {
   "cell_type": "code",
   "execution_count": 14,
   "metadata": {
    "collapsed": true
   },
   "outputs": [],
   "source": [
    "def base(base_number):\n",
    "    def inner(fn):\n",
    "        wrap = lambda x, y: fn(x, y) + base_number\n",
    "        return wrap\n",
    "    return inner"
   ]
  },
  {
   "cell_type": "code",
   "execution_count": 15,
   "metadata": {
    "collapsed": true
   },
   "outputs": [],
   "source": [
    "def base(base_number):\n",
    "    def inner(fn):\n",
    "        wrap = lambda x, y: fn(x, y) + base_number\n",
    "        return wrap\n",
    "    return inner"
   ]
  },
  {
   "cell_type": "code",
   "execution_count": 16,
   "metadata": {},
   "outputs": [
    {
     "data": {
      "text/plain": [
       "13"
      ]
     },
     "execution_count": 16,
     "metadata": {},
     "output_type": "execute_result"
    }
   ],
   "source": [
    "base_10 = base(10)\n",
    "base_20 = base(20)\n",
    "base_30 = base(30)\n",
    "\n",
    "@base_10\n",
    "def mysum(x, y):\n",
    "    return x + y\n",
    "\n",
    "mysum(1, 2)"
   ]
  },
  {
   "cell_type": "code",
   "execution_count": 18,
   "metadata": {},
   "outputs": [
    {
     "data": {
      "text/plain": [
       "13"
      ]
     },
     "execution_count": 18,
     "metadata": {},
     "output_type": "execute_result"
    }
   ],
   "source": [
    "@base(10)\n",
    "def mysum(x, y):\n",
    "    return x + y\n",
    "\n",
    "mysum(1, 2)"
   ]
  },
  {
   "cell_type": "code",
   "execution_count": 19,
   "metadata": {},
   "outputs": [
    {
     "data": {
      "text/plain": [
       "33"
      ]
     },
     "execution_count": 19,
     "metadata": {},
     "output_type": "execute_result"
    }
   ],
   "source": [
    "@base(30)\n",
    "def mysum(x, y):\n",
    "    return x + y\n",
    "\n",
    "mysum(1, 2)"
   ]
  },
  {
   "cell_type": "markdown",
   "metadata": {},
   "source": []
  },
  {
   "cell_type": "markdown",
   "metadata": {},
   "source": [
    "## 인코딩"
   ]
  },
  {
   "cell_type": "code",
   "execution_count": null,
   "metadata": {
    "collapsed": true
   },
   "outputs": [],
   "source": []
  },
  {
   "cell_type": "code",
   "execution_count": 21,
   "metadata": {},
   "outputs": [
    {
     "data": {
      "text/plain": [
       "'나다라마바사아자차카타파하'"
      ]
     },
     "execution_count": 21,
     "metadata": {},
     "output_type": "execute_result"
    }
   ],
   "source": [
    "\"가나다라마바사아자차카타파하\"[1:]"
   ]
  },
  {
   "cell_type": "code",
   "execution_count": 22,
   "metadata": {},
   "outputs": [
    {
     "data": {
      "text/plain": [
       "2"
      ]
     },
     "execution_count": 22,
     "metadata": {},
     "output_type": "execute_result"
    }
   ],
   "source": [
    "len(\"안녕\")"
   ]
  },
  {
   "cell_type": "code",
   "execution_count": 24,
   "metadata": {},
   "outputs": [
    {
     "data": {
      "text/plain": [
       "b'\\xbe\\xc8\\xb3\\xe7'"
      ]
     },
     "execution_count": 24,
     "metadata": {},
     "output_type": "execute_result"
    }
   ],
   "source": [
    "\"안녕\".encode(\"cp949\")"
   ]
  },
  {
   "cell_type": "code",
   "execution_count": 25,
   "metadata": {},
   "outputs": [
    {
     "data": {
      "text/plain": [
       "b'\\xec\\x95\\x88\\xeb\\x85\\x95'"
      ]
     },
     "execution_count": 25,
     "metadata": {},
     "output_type": "execute_result"
    }
   ],
   "source": [
    "\"안녕\".encode(\"utf8\")"
   ]
  },
  {
   "cell_type": "code",
   "execution_count": 26,
   "metadata": {
    "collapsed": true
   },
   "outputs": [],
   "source": [
    "utf9_data = \"안녕\". encode(\"utf8\")\n",
    "\n",
    "f=open(\"안녕.txt\", \"wb\")\n",
    "f.write(utf9_data)\n",
    "f.close()"
   ]
  },
  {
   "cell_type": "code",
   "execution_count": 33,
   "metadata": {},
   "outputs": [],
   "source": [
    "# utf8_data = \"안녕\".encode(\"utf8\")\n",
    "unicode_data = \"안녕\"\n",
    "\n",
    "with open(\"안녕.txt\", \"wt\", encoding=\"utf8\") as f:\n",
    "    f.write(unicode_data)\n",
    "    f.write(\"가\")\n",
    "    f.write(\"나\")\n",
    "    f.write(\"다\")\n",
    "    f.write(\"라\")"
   ]
  },
  {
   "cell_type": "code",
   "execution_count": null,
   "metadata": {
    "collapsed": true
   },
   "outputs": [],
   "source": []
  },
  {
   "cell_type": "code",
   "execution_count": 34,
   "metadata": {},
   "outputs": [
    {
     "ename": "FileNotFoundError",
     "evalue": "[Errno 2] No such file or directory: '정말큰파일.txt'",
     "output_type": "error",
     "traceback": [
      "\u001b[0;31m---------------------------------------------------------------------------\u001b[0m",
      "\u001b[0;31mFileNotFoundError\u001b[0m                         Traceback (most recent call last)",
      "\u001b[0;32m<ipython-input-34-345d3872e72a>\u001b[0m in \u001b[0;36m<module>\u001b[0;34m()\u001b[0m\n\u001b[0;32m----> 1\u001b[0;31m \u001b[0;32mwith\u001b[0m \u001b[0mopen\u001b[0m\u001b[0;34m(\u001b[0m\u001b[0;34m\"정말큰파일.txt\"\u001b[0m\u001b[0;34m,\u001b[0m \u001b[0;34m\"rt\"\u001b[0m\u001b[0;34m,\u001b[0m \u001b[0mencoding\u001b[0m\u001b[0;34m=\u001b[0m\u001b[0;34m\"utf8\"\u001b[0m\u001b[0;34m)\u001b[0m \u001b[0;32mas\u001b[0m \u001b[0mf\u001b[0m\u001b[0;34m:\u001b[0m\u001b[0;34m\u001b[0m\u001b[0m\n\u001b[0m\u001b[1;32m      2\u001b[0m     \u001b[0mlines\u001b[0m \u001b[0;34m=\u001b[0m \u001b[0mf\u001b[0m\u001b[0;34m.\u001b[0m\u001b[0mread\u001b[0m\u001b[0;34m(\u001b[0m\u001b[0;34m)\u001b[0m\u001b[0;34m.\u001b[0m\u001b[0msplitlines\u001b[0m\u001b[0;34m(\u001b[0m\u001b[0;34m)\u001b[0m\u001b[0;34m\u001b[0m\u001b[0m\n\u001b[1;32m      3\u001b[0m     \u001b[0;32mfor\u001b[0m \u001b[0mline\u001b[0m \u001b[0;32min\u001b[0m \u001b[0mlines\u001b[0m\u001b[0;34m:\u001b[0m\u001b[0;34m\u001b[0m\u001b[0m\n\u001b[1;32m      4\u001b[0m         \u001b[0;32mpass\u001b[0m\u001b[0;34m\u001b[0m\u001b[0m\n",
      "\u001b[0;31mFileNotFoundError\u001b[0m: [Errno 2] No such file or directory: '정말큰파일.txt'"
     ]
    }
   ],
   "source": [
    "with open(\"정말큰파일.txt\", \"rt\", encoding=\"utf8\") as f:\n",
    "    lines = f.read().splitlines()\n",
    "    for line in lines:\n",
    "        pass"
   ]
  },
  {
   "cell_type": "code",
   "execution_count": 35,
   "metadata": {},
   "outputs": [
    {
     "ename": "FileNotFoundError",
     "evalue": "[Errno 2] No such file or directory: '정말큰파일.txt'",
     "output_type": "error",
     "traceback": [
      "\u001b[0;31m---------------------------------------------------------------------------\u001b[0m",
      "\u001b[0;31mFileNotFoundError\u001b[0m                         Traceback (most recent call last)",
      "\u001b[0;32m<ipython-input-35-6d5af16fc2a8>\u001b[0m in \u001b[0;36m<module>\u001b[0;34m()\u001b[0m\n\u001b[0;32m----> 1\u001b[0;31m \u001b[0;32mwith\u001b[0m \u001b[0mopen\u001b[0m\u001b[0;34m(\u001b[0m\u001b[0;34m\"정말큰파일.txt\"\u001b[0m\u001b[0;34m,\u001b[0m \u001b[0;34m\"rt\"\u001b[0m\u001b[0;34m,\u001b[0m \u001b[0mencoding\u001b[0m\u001b[0;34m=\u001b[0m\u001b[0;34m\"utf8\"\u001b[0m\u001b[0;34m)\u001b[0m \u001b[0;32mas\u001b[0m \u001b[0mf\u001b[0m\u001b[0;34m:\u001b[0m\u001b[0;34m\u001b[0m\u001b[0m\n\u001b[0m\u001b[1;32m      2\u001b[0m     \u001b[0;32mfor\u001b[0m \u001b[0mline\u001b[0m \u001b[0;32min\u001b[0m \u001b[0mf\u001b[0m\u001b[0;34m:\u001b[0m\u001b[0;34m\u001b[0m\u001b[0m\n\u001b[1;32m      3\u001b[0m         \u001b[0;32mpass\u001b[0m\u001b[0;34m\u001b[0m\u001b[0m\n",
      "\u001b[0;31mFileNotFoundError\u001b[0m: [Errno 2] No such file or directory: '정말큰파일.txt'"
     ]
    }
   ],
   "source": [
    "with open(\"정말큰파일.txt\", \"rt\", encoding=\"utf8\") as f:\n",
    "    for line in f:\n",
    "        pass"
   ]
  },
  {
   "cell_type": "code",
   "execution_count": null,
   "metadata": {
    "collapsed": true
   },
   "outputs": [],
   "source": []
  }
 ],
 "metadata": {
  "kernelspec": {
   "display_name": "Python 3",
   "language": "python",
   "name": "python3"
  },
  "language_info": {
   "codemirror_mode": {
    "name": "ipython",
    "version": 3
   },
   "file_extension": ".py",
   "mimetype": "text/x-python",
   "name": "python",
   "nbconvert_exporter": "python",
   "pygments_lexer": "ipython3",
   "version": "3.6.5"
  }
 },
 "nbformat": 4,
 "nbformat_minor": 2
}
